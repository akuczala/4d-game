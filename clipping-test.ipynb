{
 "cells": [
  {
   "cell_type": "code",
   "execution_count": 1,
   "metadata": {},
   "outputs": [
    {
     "name": "stdout",
     "output_type": "stream",
     "text": [
      "pygame 1.9.4\n",
      "Hello from the pygame community. https://www.pygame.org/contribute.html\n"
     ]
    }
   ],
   "source": [
    "\n",
    "import numpy as np\n",
    "import numpy.linalg as lin\n",
    "import Clipping\n",
    "import importlib\n",
    "%matplotlib inline\n",
    "import matplotlib.pyplot as plt"
   ]
  },
  {
   "cell_type": "code",
   "execution_count": 75,
   "metadata": {},
   "outputs": [
    {
     "data": {
      "text/plain": [
       "array([[[-3, -1],\n",
       "        [ 2, -3]]])"
      ]
     },
     "execution_count": 75,
     "metadata": {},
     "output_type": "execute_result"
    }
   ],
   "source": [
    "importlib.reload(Clipping)\n",
    "\n",
    "normals = np.array([[-1, 0], [-1, 1], [1, 1], [1, 0], [1, -1], [-1, -2]],dtype=np.float);\n",
    "thresholds = np.array([2, 3, 3, 1, 1, 2],dtype=np.float);\n",
    "hyperplanes = list(map(Clipping.HyperPlane,normals,thresholds))\n",
    "\n",
    "line = np.array([[-3,-1],[2,-3]])\n",
    "\n",
    "Clipping.clip_line(line,hyperplanes)"
   ]
  },
  {
   "cell_type": "code",
   "execution_count": 32,
   "metadata": {},
   "outputs": [
    {
     "name": "stdout",
     "output_type": "stream",
     "text": [
      "None\n"
     ]
    }
   ],
   "source": []
  },
  {
   "cell_type": "code",
   "execution_count": 74,
   "metadata": {},
   "outputs": [
    {
     "name": "stdout",
     "output_type": "stream",
     "text": [
      "v0_in_sphere False\n",
      "v1_in_sphere False\n",
      "discr 0.9258698940998489\n",
      "tm,tp 2.1883135251988644 4.1127561916348885\n",
      "[[-0.87211172 -0.48930681]\n",
      " [ 0.9991919  -0.04019394]]\n"
     ]
    },
    {
     "data": {
      "image/png": "[encoded data removed]",
      "text/plain": [
       "<Figure size 432x288 with 1 Axes>"
      ]
     },
     "metadata": {
      "needs_background": "light"
     },
     "output_type": "display_data"
    }
   ],
   "source": [
    "line = np.array([[-3,-1],[2,0.2]])\n",
    "clipped_line = Clipping.clip_line_sphere(line,1)\n",
    "print(clipped_line)\n",
    "\n",
    "fig, ax = plt.subplots()\n",
    "\n",
    "circle1 = plt.Circle((0,0),1)\n",
    "ax.add_artist(circle1)\n",
    "ax.plot(line[:,0],line[:,1],c='r')\n",
    "if clipped_line is not None:\n",
    "    ax.plot(clipped_line[:,0],clipped_line[:,1],c='black')\n",
    "ax.set_xlim(-3,2)\n",
    "ax.set_ylim(-2,2)\n",
    "plt.show()"
   ]
  },
  {
   "cell_type": "code",
   "execution_count": 58,
   "metadata": {},
   "outputs": [
    {
     "data": {
      "text/plain": [
       "array([list([-2, -1]), list([-1, 1, 0.2])], dtype=object)"
      ]
     },
     "execution_count": 58,
     "metadata": {},
     "output_type": "execute_result"
    }
   ],
   "source": [
    "line"
   ]
  },
  {
   "cell_type": "code",
   "execution_count": null,
   "metadata": {},
   "outputs": [],
   "source": []
  }
 ],
 "metadata": {
  "kernelspec": {
   "display_name": "Python 3",
   "language": "python",
   "name": "python3"
  },
  "language_info": {
   "codemirror_mode": {
    "name": "ipython",
    "version": 3
   },
   "file_extension": ".py",
   "mimetype": "text/x-python",
   "name": "python",
   "nbconvert_exporter": "python",
   "pygments_lexer": "ipython3",
   "version": "3.7.0"
  }
 },
 "nbformat": 4,
 "nbformat_minor": 2
}
