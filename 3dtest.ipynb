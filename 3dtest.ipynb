{
 "cells": [
  {
   "cell_type": "markdown",
   "metadata": {
    "run_control": {
     "frozen": false,
     "read_only": false
    }
   },
   "source": [
    "# init"
   ]
  },
  {
   "cell_type": "code",
   "execution_count": 1,
   "metadata": {
    "collapsed": true,
    "run_control": {
     "frozen": false,
     "read_only": false
    }
   },
   "outputs": [],
   "source": [
    "import pygame\n",
    "import numpy as np\n",
    "import numpy.linalg as lin\n",
    "import sys\n",
    "import importlib\n",
    "import itertools\n",
    "import time\n",
    "\n",
    "import Clipping\n",
    "from Geometry import *\n",
    "from camera import Camera\n",
    "from draw import *\n",
    "from inputs import input_update"
   ]
  },
  {
   "cell_type": "markdown",
   "metadata": {
    "run_control": {
     "frozen": false,
     "read_only": false
    }
   },
   "source": [
    "# reload modules"
   ]
  },
  {
   "cell_type": "code",
   "execution_count": 90,
   "metadata": {
    "run_control": {
     "frozen": false,
     "read_only": false
    }
   },
   "outputs": [],
   "source": [
    "\n",
    "importlib.reload(Clipping)\n",
    "importlib.reload(sys.modules['Geometry'])\n",
    "importlib.reload(sys.modules['vec'])\n",
    "importlib.reload(sys.modules['util'])\n",
    "from Geometry import *\n",
    "\n",
    "importlib.reload(sys.modules['camera'])\n",
    "from camera import Camera\n",
    "importlib.reload(sys.modules['inputs'])\n",
    "from inputs import input_update\n",
    "\n",
    "importlib.reload(sys.modules['draw'])\n",
    "from draw import *\n",
    "\n"
   ]
  },
  {
   "cell_type": "markdown",
   "metadata": {
    "run_control": {
     "frozen": false,
     "read_only": false
    }
   },
   "source": [
    "# build shapes"
   ]
  },
  {
   "cell_type": "code",
   "execution_count": 2,
   "metadata": {
    "run_control": {
     "frozen": false,
     "read_only": false
    }
   },
   "outputs": [],
   "source": [
    "from colors import *\n",
    "    \n",
    "d = 3 #set dimensionality\n",
    "cube_face_colors = [RED,YELLOW,GREEN,CYAN,MAGENTA, WHITE]\n",
    "tess_face_colors = cube_face_colors + [ORANGE,PURPLE]\n",
    "\n",
    "cube_shape = build_cube(d)\n",
    "\n",
    "\n",
    "if d == 4:\n",
    "    for face, color in zip(cube_shape.faces,tess_face_colors):\n",
    "        face.color = color\n",
    "    shapes = []\n",
    "    for i in range(4):\n",
    "        cube = cube_shape.copy()\n",
    "        cube.update(pos = 2*np.eye(d)[i])\n",
    "        shapes.append(cube)\n",
    "        cube = cube_shape.copy()\n",
    "        cube.update(pos = -2*np.eye(d)[i])\n",
    "        shapes.append(cube)\n",
    "    \n",
    "    #shapes = [cube_shape] #single cube\n",
    "    #cube_shape.transparent = True\n",
    "if d == 3:\n",
    "    for face, color in zip(cube_shape.faces,cube_face_colors):\n",
    "        face.color = color\n",
    "    cube1 = cube_shape.copy()\n",
    "    cube1.update(pos=np.array([2,0,0]))\n",
    "\n",
    "    cube2 = cube_shape.copy()\n",
    "    cube2.update(pos=np.array([-2,0,0]))\n",
    "\n",
    "    cube3 = cube_shape.copy()\n",
    "    cube3.update(pos=np.array([0,0,2]))\n",
    "\n",
    "    cube4 = cube_shape.copy()\n",
    "    cube4.update(pos=np.array([0,0,-2]))\n",
    "\n",
    "    cube5 = cube_shape.copy()\n",
    "    cube5.update(pos=np.array([0,-2,0]))\n",
    "    \n",
    "    shapes = [cube1,cube2,cube3,cube4,cube5]\n",
    "    shapes[0].transparent = True\n",
    "for i,shape in enumerate(shapes):\n",
    "    shape.name = 'shape ' + str(i)\n",
    "\n",
    "shape_combinations = list(itertools.combinations(shapes,2))"
   ]
  },
  {
   "cell_type": "markdown",
   "metadata": {
    "run_control": {
     "frozen": false,
     "read_only": false
    }
   },
   "source": [
    "# main loop"
   ]
  },
  {
   "cell_type": "markdown",
   "metadata": {},
   "source": [
    "Would like draw.py to have clearer distinctions between the various spaces. The layers are\n",
    "1. The d-dim local spaces that shape.verts_ref, ref_frame, and face.normal_ref etc live in\n",
    "2. The d-dim world space that rotated, scaled and positioned shapes (and faces) and cameras live\n",
    "3. The d-dim space rotated and translated wrt to a camera\n",
    "4. The (d-1)-dim space that shapes are projected on to\n",
    "5. The (d-1)-dim graphics backend (openGL)\n",
    "\n",
    "It would be nice if we could organize code according to these layers.\n",
    "\n",
    "Does clipping happen in 2 or 3? Where should it happen?"
   ]
  },
  {
   "cell_type": "code",
   "execution_count": 4,
   "metadata": {
    "run_control": {
     "frozen": false,
     "read_only": false
    },
    "scrolled": true
   },
   "outputs": [
    {
     "name": "stdout",
     "output_type": "stream",
     "text": [
      "init GL\n",
      "57.210354358007365 fps\n",
      "59.932976811472365 fps\n",
      "59.94588253873994 fps\n",
      "transparency True\n",
      "59.426282180265446 fps\n",
      "59.95003810925224 fps\n",
      "59.45221063419505 fps\n",
      "59.941870318050704 fps\n",
      "59.96009383155565 fps\n",
      "59.9313853948912 fps\n",
      "59.9600224011791 fps\n",
      "59.95675821456931 fps\n",
      "59.92767479662406 fps\n",
      "59.929030538872105 fps\n",
      "59.97406173992247 fps\n",
      "59.44236889050168 fps\n",
      "59.93644539335086 fps\n",
      "game terminated\n"
     ]
    }
   ],
   "source": [
    "\n",
    "t = 0\n",
    "#size = width, height = 1100, 700\n",
    "size = width, height = 1800, 900\n",
    "\n",
    "pygame.init()\n",
    "\n",
    "if d == 3:\n",
    "    draw_class = DrawOpenGL2D(pygame,size,draw_origin=np.zeros([d-1]))\n",
    "    camera = Camera(pos = np.array([0.8,2,0.8]),draw_class = draw_class)\n",
    "    camera.update_rot_matrix(0,-1,-3*np.pi/4)\n",
    "    camera.update_rot_matrix(1,-1,-np.pi/4)\n",
    "if d == 4:\n",
    "    draw_class = DrawOpenGL3D(pygame,size,\n",
    "                              draw_origin=np.array([0.0,0.0,-15.0]),\n",
    "                              focal=4,stereo=False)\n",
    "    if draw_class.stereo:\n",
    "        draw_class.view_radius = 4\n",
    "    else:\n",
    "        draw_class.view_radius = 6\n",
    "\n",
    "    #draw_class.stereo_view_angles = [[-30,0],[0,0]]\n",
    "    camera = Camera(pos = np.array([0,0,0,0]),draw_class = draw_class)\n",
    "    #camera.look_at(np.array([2,2,2,2]))\n",
    "    #camera = Camera(pos = np.array([0.8,2,0.8,0.8]),draw_class = draw_class)\n",
    "    #camera.update_rot_matrix(0,-1,-3*np.pi/4)\n",
    "    #camera.update_rot_matrix(2,-1,-np.pi/4)\n",
    "    #camera.update_rot_matrix(1,-1,-np.pi/4)\n",
    "#camera.update_rot_matrix(2,3,-np.pi/4)\n",
    "camera.clipping = True\n",
    "quit = False\n",
    "redraw = True\n",
    "timer = time.time()\n",
    "frame = 0\n",
    "while not quit:\n",
    "    \n",
    "    if redraw:\n",
    "        draw_class.draw(camera,shapes)\n",
    "#         if d == 4:\n",
    "#             draw_class.draw_lines_3d(cube_lines_test,GREEN,draw_origin = draw_class.draw_origin + )\n",
    "#             draw_class.draw_lines_3d(cube_lines_test,GREEN)\n",
    "        pygame.display.flip()\n",
    "        redraw = False\n",
    "\n",
    "    #this is here so that we draw on the first frame\n",
    "    redraw, quit = input_update(camera, draw_class, shapes) \n",
    "    redraw = True #redraw every loop. useful for assessing framerate\n",
    "    \n",
    "    \n",
    "    delta_t = (time.time() - timer)\n",
    "    if delta_t > 2:\n",
    "    #if False:\n",
    "        #print('redraw:',redraw)\n",
    "        try:\n",
    "            #fps = 30/(time.time() - timer)\n",
    "            fps = frame/delta_t\n",
    "        except:\n",
    "            fps = 0\n",
    "        #if fps < 60:\n",
    "        print(fps,'fps')\n",
    "        timer = time.time()\n",
    "        frame = 0\n",
    "    frame = frame+1\n",
    "pygame.quit()\n",
    "print('game terminated')"
   ]
  },
  {
   "cell_type": "code",
   "execution_count": null,
   "metadata": {
    "collapsed": true,
    "run_control": {
     "frozen": false,
     "read_only": false
    }
   },
   "outputs": [],
   "source": [
    "pygame.quit()"
   ]
  }
 ],
 "metadata": {
  "kernelspec": {
   "display_name": "Python 3",
   "language": "python",
   "name": "python3"
  },
  "language_info": {
   "codemirror_mode": {
    "name": "ipython",
    "version": 3
   },
   "file_extension": ".py",
   "mimetype": "text/x-python",
   "name": "python",
   "nbconvert_exporter": "python",
   "pygments_lexer": "ipython3",
   "version": "3.6.8"
  },
  "toc": {
   "base_numbering": 1,
   "nav_menu": {},
   "number_sections": true,
   "sideBar": true,
   "skip_h1_title": false,
   "title_cell": "Table of Contents",
   "title_sidebar": "Contents",
   "toc_cell": false,
   "toc_position": {},
   "toc_section_display": true,
   "toc_window_display": false
  }
 },
 "nbformat": 4,
 "nbformat_minor": 2
}
