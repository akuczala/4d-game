{
 "cells": [
  {
   "cell_type": "markdown",
   "metadata": {
    "run_control": {
     "frozen": false,
     "read_only": false
    }
   },
   "source": [
    "# init"
   ]
  },
  {
   "cell_type": "code",
   "execution_count": 1,
   "metadata": {
    "run_control": {
     "frozen": false,
     "read_only": false
    }
   },
   "outputs": [],
   "source": [
    "import pygame\n",
    "import numpy as np\n",
    "import numpy.linalg as lin\n",
    "import sys\n",
    "import importlib\n",
    "import itertools\n",
    "import time\n",
    "\n",
    "import Clipping\n",
    "from Geometry import *\n",
    "from camera import Camera\n",
    "from draw import *"
   ]
  },
  {
   "cell_type": "markdown",
   "metadata": {
    "run_control": {
     "frozen": false,
     "read_only": false
    }
   },
   "source": [
    "# reload modules"
   ]
  },
  {
   "cell_type": "code",
   "execution_count": 47,
   "metadata": {
    "run_control": {
     "frozen": false,
     "read_only": false
    }
   },
   "outputs": [],
   "source": [
    "\n",
    "importlib.reload(Clipping)\n",
    "importlib.reload(sys.modules['Geometry'])\n",
    "importlib.reload(sys.modules['vec'])\n",
    "from Geometry import *\n",
    "\n",
    "importlib.reload(sys.modules['camera'])\n",
    "from camera import Camera\n",
    "\n",
    "importlib.reload(sys.modules['draw'])\n",
    "from draw import *\n",
    "\n",
    "\n"
   ]
  },
  {
   "cell_type": "markdown",
   "metadata": {
    "heading_collapsed": true,
    "run_control": {
     "frozen": false,
     "read_only": false
    }
   },
   "source": [
    "# some out of date crap still being used"
   ]
  },
  {
   "cell_type": "code",
   "execution_count": 10,
   "metadata": {
    "collapsed": true,
    "hidden": true,
    "run_control": {
     "frozen": false,
     "read_only": false
    }
   },
   "outputs": [],
   "source": [
    "def vert_list_to_lines(verts,cycle=True):\n",
    "    cycle_edges = np.stack((verts,np.roll(verts,1,axis=0))).transpose([1,0,2])\n",
    "    if cycle and len(verts) > 2:\n",
    "        return cycle_edges\n",
    "    else:\n",
    "        return cycle_edges[:-1]\n",
    "    \n",
    "square = np.array([[1,1,0],[-1,1,0],[-1,-1,0],[1,-1,0]])\n",
    "square1 = square + np.array([0,0,-1])\n",
    "square2 = square + np.array([0,0,1])\n",
    "connect = np.array([[[1,1,-1],[1,1,1]],[[-1,1,1],[-1,1,-1]],[[-1,-1,-1],[-1,-1,1]],[[1,-1,-1],[1,-1,1]]])\n",
    "cube_lines_test = 2*np.concatenate((np.concatenate(list(map(vert_list_to_lines,[square1,square2]))),connect))"
   ]
  },
  {
   "cell_type": "markdown",
   "metadata": {
    "run_control": {
     "frozen": false,
     "read_only": false
    }
   },
   "source": [
    "# build shapes"
   ]
  },
  {
   "cell_type": "code",
   "execution_count": 35,
   "metadata": {
    "collapsed": true,
    "run_control": {
     "frozen": false,
     "read_only": false
    }
   },
   "outputs": [],
   "source": [
    "from colors import *\n",
    "    \n",
    "d = 4 #set dimensionality\n",
    "cube_face_colors = [RED,YELLOW,GREEN,CYAN,MAGENTA, WHITE]\n",
    "tess_face_colors = cube_face_colors + [ORANGE,PURPLE]\n",
    "\n",
    "cube_shape = build_cube(d)\n",
    "\n",
    "\n",
    "if d == 4:\n",
    "    for face, color in zip(cube_shape.faces,tess_face_colors):\n",
    "        face.color = color\n",
    "    shapes = []\n",
    "    for i in range(4):\n",
    "        cube = cube_shape.copy()\n",
    "        cube.update(pos = 2*np.eye(d)[i])\n",
    "        shapes.append(cube)\n",
    "        cube = cube_shape.copy()\n",
    "        cube.update(pos = -2*np.eye(d)[i])\n",
    "        shapes.append(cube)\n",
    "    \n",
    "    #shapes = [cube_shape] #single cube\n",
    "    #cube_shape.transparent = True\n",
    "if d == 3:\n",
    "    for face, color in zip(cube_shape.faces,cube_face_colors):\n",
    "        face.color = color\n",
    "    cube1 = cube_shape.copy()\n",
    "    cube1.update(pos=np.array([2,0,0]))\n",
    "\n",
    "    cube2 = cube_shape.copy()\n",
    "    cube2.update(pos=np.array([-2,0,0]))\n",
    "\n",
    "    cube3 = cube_shape.copy()\n",
    "    cube3.update(pos=np.array([0,0,2]))\n",
    "\n",
    "    cube4 = cube_shape.copy()\n",
    "    cube4.update(pos=np.array([0,0,-2]))\n",
    "\n",
    "    cube5 = cube_shape.copy()\n",
    "    cube5.update(pos=np.array([0,-2,0]))\n",
    "    \n",
    "    shapes = [cube1,cube2,cube3,cube4,cube5]\n",
    "for i,shape in enumerate(shapes):\n",
    "    shape.name = 'shape ' + str(i)\n",
    "\n",
    "shape_combinations = list(itertools.combinations(shapes,2))"
   ]
  },
  {
   "cell_type": "markdown",
   "metadata": {
    "run_control": {
     "frozen": false,
     "read_only": false
    }
   },
   "source": [
    "# main loop"
   ]
  },
  {
   "cell_type": "code",
   "execution_count": 51,
   "metadata": {
    "run_control": {
     "frozen": false,
     "read_only": false
    },
    "scrolled": true
   },
   "outputs": [
    {
     "name": "stdout",
     "output_type": "stream",
     "text": [
      "40.02252001086549 fps\n",
      "21.31188918519229 fps\n",
      "29.31228834685282 fps\n",
      "26.498492825819312 fps\n",
      "20.42359288535656 fps\n",
      "transparency False\n",
      "18.113239310237663 fps\n",
      "11.924209712333418 fps\n",
      "11.925077991436876 fps\n",
      "game terminated\n"
     ]
    }
   ],
   "source": [
    "\n",
    "t = 0\n",
    "#size = width, height = 1100, 700\n",
    "size = width, height = 1800, 900\n",
    "\n",
    "pygame.init()\n",
    "\n",
    "if d == 3:\n",
    "    draw_class = DrawOpenGL2D(pygame,size,draw_origin=np.zeros([d-1]))\n",
    "    camera = Camera(pos = np.array([0.8,2,0.8]),draw_class = draw_class)\n",
    "    camera.update_rot_matrix(0,-1,-3*np.pi/4)\n",
    "    camera.update_rot_matrix(1,-1,-np.pi/4)\n",
    "if d == 4:\n",
    "    draw_class = DrawOpenGL3D(pygame,size,\n",
    "                              draw_origin=np.array([0.0,0.0,-15.0]),\n",
    "                              focal=4,stereo=False)\n",
    "    if draw_class.stereo:\n",
    "        draw_class.view_radius = 4\n",
    "    else:\n",
    "        draw_class.view_radius = 6\n",
    "    #draw_class.stereo_view_angles = [[-30,0],[0,0]]\n",
    "    camera = Camera(pos = np.array([0,0,0,0]),draw_class = draw_class)\n",
    "    #camera.look_at(np.array([2,2,2,2]))\n",
    "    #camera = Camera(pos = np.array([0.8,2,0.8,0.8]),draw_class = draw_class)\n",
    "    #camera.update_rot_matrix(0,-1,-3*np.pi/4)\n",
    "    #camera.update_rot_matrix(2,-1,-np.pi/4)\n",
    "    #camera.update_rot_matrix(1,-1,-np.pi/4)\n",
    "#camera.update_rot_matrix(2,3,-np.pi/4)\n",
    "camera.clipping = True\n",
    "quit = False\n",
    "redraw = True\n",
    "timer = time.time()\n",
    "frame = 0\n",
    "while not quit:\n",
    "    \n",
    "    if redraw:\n",
    "        draw_class.draw(camera,shapes)\n",
    "#         if d == 4:\n",
    "#             draw_class.draw_lines_3d(cube_lines_test,GREEN,draw_origin = draw_class.draw_origin + )\n",
    "#             draw_class.draw_lines_3d(cube_lines_test,GREEN)\n",
    "        pygame.display.flip()\n",
    "        redraw = False\n",
    "    \n",
    "    events = pygame.event.get()\n",
    "    \n",
    "    redraw = camera.update(draw_class,events) #this is here so that we draw on the first frame\n",
    "    redraw = True #redraw every loop. useful for assessing framerate\n",
    "    for event in events:\n",
    "        if event.type == pygame.QUIT:\n",
    "            quit = True\n",
    "        #toggle transparency\n",
    "        if event.type == pygame.KEYUP:\n",
    "            if event.key == pygame.K_t:\n",
    "                for shape in shapes:\n",
    "                    shape.transparent = not shape.transparent\n",
    "                    redraw = True\n",
    "                print('transparency',shapes[0].transparent)\n",
    "    keys = pygame.key.get_pressed()\n",
    "    if keys[pygame.K_ESCAPE]:\n",
    "        quit = True\n",
    "    \n",
    "    delta_t = (time.time() - timer)\n",
    "    if delta_t > 3:\n",
    "    #if False:\n",
    "        #print('redraw:',redraw)\n",
    "        try:\n",
    "            #fps = 30/(time.time() - timer)\n",
    "            fps = frame/delta_t\n",
    "        except:\n",
    "            fps = 0\n",
    "        #if fps < 60:\n",
    "        print(fps,'fps')\n",
    "        timer = time.time()\n",
    "        frame = 0\n",
    "    frame = frame+1\n",
    "pygame.quit()\n",
    "print('game terminated')"
   ]
  },
  {
   "cell_type": "code",
   "execution_count": 46,
   "metadata": {
    "collapsed": true,
    "run_control": {
     "frozen": false,
     "read_only": false
    }
   },
   "outputs": [],
   "source": [
    "pygame.quit()"
   ]
  },
  {
   "cell_type": "code",
   "execution_count": 17,
   "metadata": {
    "run_control": {
     "frozen": false,
     "read_only": false
    }
   },
   "outputs": [
    {
     "data": {
      "text/plain": [
       "[array([-1., -1., -1., -3.]), array([ 0., -1., -1., -3.])]"
      ]
     },
     "execution_count": 17,
     "metadata": {},
     "output_type": "execute_result"
    }
   ],
   "source": [
    "[cube.verts[vi] for vi in cube.edges[3]]"
   ]
  },
  {
   "cell_type": "code",
   "execution_count": 263,
   "metadata": {
    "run_control": {
     "frozen": false,
     "read_only": false
    }
   },
   "outputs": [
    {
     "name": "stdout",
     "output_type": "stream",
     "text": [
      "[[ 0 -1  0]\n",
      " [-1  1  0]]\n"
     ]
    },
    {
     "data": {
      "text/plain": [
       "array([[ 0,  0],\n",
       "       [-1,  0]])"
      ]
     },
     "execution_count": 263,
     "metadata": {},
     "output_type": "execute_result"
    }
   ],
   "source": [
    "#test minor extraction\n",
    "verts = np.array([[1,0,0],[0,1,0],[1,1,0]])\n",
    "dvs = verts - np.roll(verts,1,axis=0)\n",
    "print(dvs[:-1])\n",
    "dvs[:2][:,[0,2]]"
   ]
  },
  {
   "cell_type": "code",
   "execution_count": 24,
   "metadata": {
    "run_control": {
     "frozen": false,
     "read_only": false
    }
   },
   "outputs": [
    {
     "data": {
      "text/plain": [
       "888362"
      ]
     },
     "execution_count": 24,
     "metadata": {},
     "output_type": "execute_result"
    }
   ],
   "source": [
    "i"
   ]
  },
  {
   "cell_type": "code",
   "execution_count": null,
   "metadata": {
    "collapsed": true,
    "run_control": {
     "frozen": false,
     "read_only": false
    }
   },
   "outputs": [],
   "source": []
  }
 ],
 "metadata": {
  "kernelspec": {
   "display_name": "Python 3",
   "language": "python",
   "name": "python3"
  },
  "language_info": {
   "codemirror_mode": {
    "name": "ipython",
    "version": 3
   },
   "file_extension": ".py",
   "mimetype": "text/x-python",
   "name": "python",
   "nbconvert_exporter": "python",
   "pygments_lexer": "ipython3",
   "version": "3.6.0"
  },
  "toc": {
   "base_numbering": 1,
   "nav_menu": {},
   "number_sections": true,
   "sideBar": true,
   "skip_h1_title": false,
   "title_cell": "Table of Contents",
   "title_sidebar": "Contents",
   "toc_cell": false,
   "toc_position": {},
   "toc_section_display": true,
   "toc_window_display": false
  }
 },
 "nbformat": 4,
 "nbformat_minor": 2
}
