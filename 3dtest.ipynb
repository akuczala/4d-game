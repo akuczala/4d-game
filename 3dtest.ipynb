{
 "cells": [
  {
   "cell_type": "markdown",
   "metadata": {
    "run_control": {
     "frozen": false,
     "read_only": false
    }
   },
   "source": [
    "# init"
   ]
  },
  {
   "cell_type": "code",
   "execution_count": 1,
   "metadata": {
    "run_control": {
     "frozen": false,
     "read_only": false
    }
   },
   "outputs": [],
   "source": [
    "import pygame\n",
    "import numpy as np\n",
    "import numpy.linalg as lin\n",
    "import sys\n",
    "import importlib\n",
    "import itertools\n",
    "import time\n",
    "\n",
    "import Clipping\n",
    "\n",
    "import Geometry\n",
    "from Geometry import Point\n",
    "from camera import Camera\n",
    "import draw\n",
    "from inputs import input_update"
   ]
  },
  {
   "cell_type": "markdown",
   "metadata": {
    "run_control": {
     "frozen": false,
     "read_only": false
    }
   },
   "source": [
    "# reload modules"
   ]
  },
  {
   "cell_type": "code",
   "execution_count": 221,
   "metadata": {
    "run_control": {
     "frozen": false,
     "read_only": false
    }
   },
   "outputs": [],
   "source": [
    "\n",
    "importlib.reload(Clipping)\n",
    "importlib.reload(Geometry)\n",
    "importlib.reload(sys.modules['vec'])\n",
    "importlib.reload(sys.modules['util'])\n",
    "importlib.reload(sys.modules['opengl_draw_2d'])\n",
    "importlib.reload(sys.modules['opengl_draw_3d'])\n",
    "import Geometry\n",
    "\n",
    "importlib.reload(sys.modules['camera'])\n",
    "from camera import Camera\n",
    "importlib.reload(sys.modules['inputs'])\n",
    "from inputs import input_update\n",
    "\n",
    "importlib.reload(sys.modules['draw'])\n",
    "import draw\n",
    "\n"
   ]
  },
  {
   "cell_type": "markdown",
   "metadata": {
    "run_control": {
     "frozen": false,
     "read_only": false
    }
   },
   "source": [
    "# build shapes"
   ]
  },
  {
   "cell_type": "code",
   "execution_count": 197,
   "metadata": {
    "run_control": {
     "frozen": false,
     "read_only": false
    }
   },
   "outputs": [],
   "source": [
    "from colors import *\n",
    "    \n",
    "d = 3 #set dimensionality\n",
    "cube_face_colors = [RED,YELLOW,GREEN,CYAN,MAGENTA, WHITE]\n",
    "tess_face_colors = cube_face_colors + [ORANGE,PURPLE]\n",
    "\n",
    "cube_shape = Geometry.build_cube(d)\n",
    "\n",
    "#draw a pair of cubes for each axis\n",
    "for face, color in zip(cube_shape.faces,tess_face_colors):\n",
    "    face.color = color\n",
    "shapes = []\n",
    "r = 2\n",
    "for i in range(d):\n",
    "    cube = cube_shape.copy()\n",
    "    cube.update(pos = r*np.eye(d)[i])\n",
    "    shapes.append(cube)\n",
    "    cube = cube_shape.copy()\n",
    "    cube.update(pos = -r*np.eye(d)[i])\n",
    "    shapes.append(cube)\n",
    "#shapes = [shapes[-2]] \n",
    "shapes.pop(2) #removes top cube\n",
    "#cube_shape.transparent = True\n",
    "    \n",
    "for i,shape in enumerate(shapes):\n",
    "    shape.name = 'shape ' + str(i)\n",
    "\n",
    "shape_combinations = list(itertools.combinations(shapes,2))"
   ]
  },
  {
   "cell_type": "code",
   "execution_count": 228,
   "metadata": {},
   "outputs": [],
   "source": [
    "d = 3\n",
    "cylinder_shape = Geometry.build_cylinder(r=1,h=2,axis=1,n_circ_pts=20)\n",
    "shapes = [cylinder_shape]"
   ]
  },
  {
   "cell_type": "markdown",
   "metadata": {
    "run_control": {
     "frozen": false,
     "read_only": false
    }
   },
   "source": [
    "# main loop"
   ]
  },
  {
   "cell_type": "markdown",
   "metadata": {},
   "source": [
    "Would like draw.py to have clearer distinctions between the various spaces. The layers are\n",
    "1. The d-dim local spaces that shape.verts_ref, ref_frame, and face.normal_ref etc live in\n",
    "2. The d-dim world space that rotated, scaled and positioned shapes (and faces) and cameras live\n",
    "3. The d-dim space rotated and translated wrt to a camera\n",
    "4. The (d-1)-dim space that shapes are projected on to\n",
    "5. The (d-1)-dim graphics backend (openGL)\n",
    "\n",
    "It would be nice if we could organize code according to these layers.\n",
    "\n",
    "Clipping happens in 2\n",
    "\n",
    "Todo: \n",
    "- finish duocylinder\n",
    "- implement cubinders, spherinders, spheres\n",
    "- generalize face fuzz to all convex faces, invariant to edge order"
   ]
  },
  {
   "cell_type": "code",
   "execution_count": 24,
   "metadata": {
    "collapsed": true
   },
   "outputs": [],
   "source": [
    "import colors\n",
    "import vec\n",
    "def test_points(camera,pos):\n",
    "    points = [ vec.Vec([np.cos(th),np.sin(th),0,0]) + pos for th in np.linspace(0,2*np.pi,200)]\n",
    "    draw.draw_points(camera,points,colors.GREEN)"
   ]
  },
  {
   "cell_type": "code",
   "execution_count": 229,
   "metadata": {
    "run_control": {
     "frozen": false,
     "read_only": false
    },
    "scrolled": true
   },
   "outputs": [
    {
     "name": "stdout",
     "output_type": "stream",
     "text": [
      "init GL\n"
     ]
    },
    {
     "name": "stderr",
     "output_type": "stream",
     "text": [
      "C:\\Users\\kook\\Documents\\python\\4d\\4d-game\\Clipping.py:247: RuntimeWarning: invalid value encountered in double_scalars\n",
      "  tm = (-b - sqrt_discr)/(2*a)\n",
      "C:\\Users\\kook\\Documents\\python\\4d\\4d-game\\Clipping.py:248: RuntimeWarning: invalid value encountered in double_scalars\n",
      "  tp = (-b + sqrt_discr)/(2*a)\n"
     ]
    },
    {
     "name": "stdout",
     "output_type": "stream",
     "text": [
      "78.72562523135377 fps\n",
      "87.0611658957517 fps\n",
      "89.9458412594555 fps\n",
      "80.15028992159127 fps\n",
      "89.98281568637734 fps\n",
      "88.42010302770734 fps\n",
      "game terminated\n"
     ]
    }
   ],
   "source": [
    "#does not draw before input / does not update camera properly?\n",
    "\n",
    "t = 0\n",
    "#size = width, height = 1100, 700\n",
    "size = width, height = 1600, 900\n",
    "\n",
    "pygame.init()\n",
    "\n",
    "if d == 3:\n",
    "    draw.init(d,size,focal=6,n_fuzz_points = 200)\n",
    "    draw.view_radius = 7\n",
    "    draw_view_height = 7\n",
    "    draw.view_boundary = 'cylinder'\n",
    "    camera = Camera(pos = Point([0,0,-10]))\n",
    "    #camera.update_rot_matrix(0,-1,-3*np.pi/4)\n",
    "    #camera.update_rot_matrix(1,-1,-np.pi/4)\n",
    "    camera.look_at(vec.zero_vec(d))\n",
    "    #camera.look_at(vec.zero_vec(d))\n",
    "    #camera = Camera(pos = Point([0,0,0]))\n",
    "if d == 4:\n",
    "    draw.init(d,size,stereo=True,n_fuzz_points = 200)\n",
    "    draw.view_boundary = 'cylinder'\n",
    "    if draw.stereo:\n",
    "        draw.view_radius = 4\n",
    "    else:\n",
    "        draw.view_radius = 6\n",
    "        draw.view_height = 3\n",
    "    #camera = Camera(pos = Point([0,0,0,0]))\n",
    "    draw.face_scales = [0.5]\n",
    "    #draw_class.stereo_view_angles = [[-30,0],[0,0]]\n",
    "    #camera = Camera(pos = Point([0,0,0,0]))\n",
    "    camera = Camera(pos = vec.ones_vec(d))\n",
    "    camera.look_at(vec.zero_vec(d))\n",
    "    #camera.update_rot_matrix(0,-1,-3*np.pi/4)\n",
    "    #camera.update_rot_matrix(2,-1,-np.pi/4)\n",
    "    #camera.update_rot_matrix(1,-1,-np.pi/4)\n",
    "#camera.update_rot_matrix(2,3,-np.pi/4)\n",
    "draw.clipping = True\n",
    "quit = False\n",
    "redraw = True\n",
    "timer = time.time()\n",
    "frame = 0\n",
    "try:\n",
    "    while not quit:\n",
    "\n",
    "        if redraw:\n",
    "            draw.draw(camera,shapes)\n",
    "            #test_points(camera,shapes[0].pos)\n",
    "            pygame.display.flip()\n",
    "            redraw = False\n",
    "            \n",
    "        #this is here so that we draw on the first frame\n",
    "        redraw, quit = input_update(camera, shapes)\n",
    "        shapes[0].update(angles=[0,time.time()]) #rotate shapes[0]\n",
    "        redraw = True #redraw every loop. useful for assessing framerate\n",
    "\n",
    "\n",
    "        delta_t = (time.time() - timer)\n",
    "        if delta_t > 2:\n",
    "        #if False:\n",
    "            #print('redraw:',redraw)\n",
    "            try:\n",
    "                #fps = 30/(time.time() - timer)\n",
    "                fps = frame/delta_t\n",
    "            except:\n",
    "                fps = 0\n",
    "            #if fps < 60:\n",
    "            print(fps,'fps')\n",
    "            timer = time.time()\n",
    "            frame = 0\n",
    "        frame = frame+1\n",
    "except:\n",
    "    pygame.quit()\n",
    "    print('game terminated')\n",
    "    raise\n",
    "pygame.quit()\n",
    "print('game terminated')"
   ]
  },
  {
   "cell_type": "code",
   "execution_count": 188,
   "metadata": {
    "collapsed": true,
    "run_control": {
     "frozen": false,
     "read_only": false
    }
   },
   "outputs": [],
   "source": [
    "pygame.quit()"
   ]
  },
  {
   "cell_type": "code",
   "execution_count": 79,
   "metadata": {},
   "outputs": [
    {
     "data": {
      "text/plain": [
       "6.327947685764504"
      ]
     },
     "execution_count": 79,
     "metadata": {},
     "output_type": "execute_result"
    }
   ],
   "source": [
    "import vec\n",
    "vec.norm(Vec([-5.55299282,  3.03433562]))"
   ]
  },
  {
   "cell_type": "code",
   "execution_count": 88,
   "metadata": {},
   "outputs": [
    {
     "name": "stdout",
     "output_type": "stream",
     "text": [
      "([array([-6.66864923,  2.12817233]), array([-0.71568071,  6.96331826])], (9.883093514931366, 2.213903837983771))\n",
      "u1 in 1.3871228099999993 15.38712281 Line([-8.38712281  0.73238626],[-5.55299282  3.03433562])\n",
      "Line([-7.          3.92547272],[-5.55299282  3.03433562])\n"
     ]
    }
   ],
   "source": [
    "test= Geometry.Line(Vec([-8.38712281,  0.73238626]),Vec([-5.55299282,  3.03433562]))\n",
    "print(Clipping.sphere_line_intersect(test,7,return_ts=True))\n",
    "print(Clipping.clip_line_cylinder(test,7,7,axis=1))"
   ]
  },
  {
   "cell_type": "code",
   "execution_count": 181,
   "metadata": {},
   "outputs": [
    {
     "data": {
      "text/plain": [
       "array([[nan, nan, nan],\n",
       "       [nan, nan, nan],\n",
       "       [nan, nan, nan]])"
      ]
     },
     "execution_count": 181,
     "metadata": {},
     "output_type": "execute_result"
    }
   ],
   "source": [
    "camera.frame"
   ]
  },
  {
   "cell_type": "code",
   "execution_count": 142,
   "metadata": {},
   "outputs": [
    {
     "data": {
      "text/plain": [
       "Line([0 0],[ 0.66666667 -2.        ])"
      ]
     },
     "execution_count": 142,
     "metadata": {},
     "output_type": "execute_result"
    }
   ],
   "source": [
    "Clipping.clip_line_plane(Geometry.Line(Vec([0,0]),Vec([1,-3])),Geometry.HyperPlane(vec.one_hot(2,1),-2))"
   ]
  },
  {
   "cell_type": "code",
   "execution_count": 52,
   "metadata": {},
   "outputs": [
    {
     "name": "stdout",
     "output_type": "stream",
     "text": [
      "([array([4., 0.]), array([-4.,  0.])], (6.0, -2.0))\n"
     ]
    }
   ],
   "source": [
    "from vec import Vec\n",
    "test =Clipping.sphere_line_intersect(Geometry.Line(Vec([2,0]),Vec([-2,0])),4,return_ts=True)\n",
    "print(test)"
   ]
  },
  {
   "cell_type": "code",
   "execution_count": 18,
   "metadata": {},
   "outputs": [
    {
     "name": "stdout",
     "output_type": "stream",
     "text": [
      "None\n"
     ]
    }
   ],
   "source": []
  },
  {
   "cell_type": "code",
   "execution_count": null,
   "metadata": {
    "collapsed": true
   },
   "outputs": [],
   "source": []
  }
 ],
 "metadata": {
  "kernelspec": {
   "display_name": "Python 3",
   "language": "python",
   "name": "python3"
  },
  "language_info": {
   "codemirror_mode": {
    "name": "ipython",
    "version": 3
   },
   "file_extension": ".py",
   "mimetype": "text/x-python",
   "name": "python",
   "nbconvert_exporter": "python",
   "pygments_lexer": "ipython3",
   "version": "3.6.8"
  },
  "toc": {
   "base_numbering": 1,
   "nav_menu": {},
   "number_sections": true,
   "sideBar": true,
   "skip_h1_title": false,
   "title_cell": "Table of Contents",
   "title_sidebar": "Contents",
   "toc_cell": false,
   "toc_position": {},
   "toc_section_display": true,
   "toc_window_display": false
  }
 },
 "nbformat": 4,
 "nbformat_minor": 2
}
