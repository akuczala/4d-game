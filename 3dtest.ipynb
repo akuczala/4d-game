{
 "cells": [
  {
   "cell_type": "markdown",
   "metadata": {
    "run_control": {
     "frozen": false,
     "read_only": false
    }
   },
   "source": [
    "# init"
   ]
  },
  {
   "cell_type": "code",
   "execution_count": 1,
   "metadata": {
    "run_control": {
     "frozen": false,
     "read_only": false
    }
   },
   "outputs": [],
   "source": [
    "import pygame\n",
    "import numpy as np\n",
    "import numpy.linalg as lin\n",
    "import sys\n",
    "import importlib\n",
    "import itertools\n",
    "import time\n",
    "\n",
    "import Clipping\n",
    "\n",
    "import Geometry\n",
    "from Geometry import Point\n",
    "from camera import Camera\n",
    "import draw\n",
    "import vec\n",
    "from inputs import input_update"
   ]
  },
  {
   "cell_type": "markdown",
   "metadata": {
    "run_control": {
     "frozen": false,
     "read_only": false
    }
   },
   "source": [
    "# reload modules"
   ]
  },
  {
   "cell_type": "code",
   "execution_count": 220,
   "metadata": {
    "run_control": {
     "frozen": false,
     "read_only": false
    }
   },
   "outputs": [],
   "source": [
    "\n",
    "importlib.reload(Clipping)\n",
    "importlib.reload(Geometry)\n",
    "importlib.reload(sys.modules['vec'])\n",
    "importlib.reload(sys.modules['util'])\n",
    "importlib.reload(sys.modules['opengl_draw_2d'])\n",
    "importlib.reload(sys.modules['opengl_draw_3d'])\n",
    "import Geometry\n",
    "\n",
    "importlib.reload(sys.modules['camera'])\n",
    "from camera import Camera\n",
    "importlib.reload(sys.modules['inputs'])\n",
    "from inputs import input_update\n",
    "\n",
    "importlib.reload(sys.modules['draw'])\n",
    "import draw\n",
    "\n"
   ]
  },
  {
   "cell_type": "markdown",
   "metadata": {
    "run_control": {
     "frozen": false,
     "read_only": false
    }
   },
   "source": [
    "# build shapes"
   ]
  },
  {
   "cell_type": "code",
   "execution_count": 236,
   "metadata": {
    "run_control": {
     "frozen": false,
     "read_only": false
    }
   },
   "outputs": [],
   "source": [
    "from colors import *\n",
    "    \n",
    "d = 4 #set dimensionality\n",
    "cube_face_colors = [RED,YELLOW,GREEN,CYAN,MAGENTA, WHITE]\n",
    "tess_face_colors = cube_face_colors + [ORANGE,PURPLE]\n",
    "\n",
    "cube_shape = Geometry.build_cube(d)\n",
    "\n",
    "#draw a pair of cubes for each axis\n",
    "for face, color in zip(cube_shape.faces,tess_face_colors):\n",
    "    #face.color = color\n",
    "    face.color = GREEN\n",
    "shapes = []\n",
    "r = 4\n",
    "for i in range(d):\n",
    "    cube = cube_shape.copy()\n",
    "    cube.update(pos = r*np.eye(d)[i])\n",
    "    shapes.append(cube)\n",
    "    cube = cube_shape.copy()\n",
    "    cube.update(pos = -r*np.eye(d)[i])\n",
    "    shapes.append(cube)\n",
    "#shapes = shapes[:2] + shapes[-4:] \n",
    "#shapes = shapes[:2] + shapes[-2:]\n",
    "#shapes.pop(2) #removes top cube\n",
    "#cube_shape.transparent = True\n",
    "    \n",
    "for i,shape in enumerate(shapes):\n",
    "    shape.name = 'shape ' + str(i)\n",
    "    \n",
    "floor_lines = Geometry.build_floor(d,1,16,-5)"
   ]
  },
  {
   "cell_type": "markdown",
   "metadata": {},
   "source": [
    "## other shapes"
   ]
  },
  {
   "cell_type": "code",
   "execution_count": 124,
   "metadata": {
    "run_control": {
     "frozen": false,
     "read_only": false
    }
   },
   "outputs": [
    {
     "name": "stdout",
     "output_type": "stream",
     "text": [
      "Warning: not all normals perpendicular\n"
     ]
    }
   ],
   "source": [
    "d = 3\n",
    "sphere_shape = Geometry.build_sphere_3d(r=1,phi_pts=10,theta_pts=5)\n",
    "#shapes = [sphere_shape]\n",
    "shapes.append(sphere_shape)"
   ]
  },
  {
   "cell_type": "code",
   "execution_count": 48,
   "metadata": {},
   "outputs": [],
   "source": []
  },
  {
   "cell_type": "code",
   "execution_count": 244,
   "metadata": {
    "run_control": {
     "frozen": false,
     "read_only": false
    }
   },
   "outputs": [
    {
     "name": "stdout",
     "output_type": "stream",
     "text": [
      "Warning: not all normals perpendicular\n"
     ]
    }
   ],
   "source": [
    "d = 4\n",
    "m = 12; n = 12\n",
    "cylinder_shape = Geometry.build_duocylinder(rs=[1,1],axes=[[0,1],[2,3]],n_circ_pts=[m,n])\n",
    "#cylinder_shape.transparent = True\n",
    "for i,face in enumerate(cylinder_shape.faces[:m]):\n",
    "    face.color = ORANGE\n",
    "    #face.color = (np.cos(2*np.pi*i/m)**2,np.sin(2*np.pi*i/m)**2,1)\n",
    "    #face.color = ((i+1)%2,(i+1)%2,i%2)\n",
    "for i,face in enumerate(cylinder_shape.faces[m:]):\n",
    "    face.color = CYAN\n",
    "    #face.color = (1,np.cos(2*np.pi*i/m)**2,np.sin(2*np.pi*i/m)**2)\n",
    "    #face.color = ((i+1)%2,i%2,(i+1)%2)\n",
    "    #face.color = ((i+1)%2,(i+1)%2,i%2)\n",
    "shapes = [cylinder_shape]\n",
    "#shapes.append(cylinder_shape)"
   ]
  },
  {
   "cell_type": "markdown",
   "metadata": {
    "run_control": {
     "frozen": false,
     "read_only": false
    }
   },
   "source": [
    "# main loop"
   ]
  },
  {
   "cell_type": "markdown",
   "metadata": {
    "run_control": {
     "frozen": false,
     "read_only": false
    }
   },
   "source": [
    "Would like draw.py to have clearer distinctions between the various spaces. The layers are\n",
    "1. The d-dim local spaces that shape.verts_ref, ref_frame, and face.normal_ref etc live in\n",
    "2. The d-dim world space that rotated, scaled and positioned shapes (and faces) and cameras live\n",
    "3. The d-dim space rotated and translated wrt to a camera\n",
    "4. The (d-1)-dim space that shapes are projected on to\n",
    "5. The (d-1)-dim graphics backend (openGL)\n",
    "\n",
    "It would be nice if we could organize code according to these layers.\n",
    "\n",
    "Clipping happens in 2\n",
    "\n",
    "Todo: \n",
    "- fix target shape clipping\n",
    "- speed up /generalize floor drawing\n",
    "- speed up clipping\n",
    "- find a way to make the center obvious wrt objects in the view. does rotation help or hurt? how can one navigate with a rotating viewport?\n",
    "- other points of reference at infinity\n",
    "- a floor and ceiling\n",
    "- implement cubinders, spherinders\n",
    "- generalize face fuzz to all convex faces, invariant to edge order"
   ]
  },
  {
   "cell_type": "code",
   "execution_count": 24,
   "metadata": {
    "collapsed": true,
    "run_control": {
     "frozen": false,
     "read_only": false
    }
   },
   "outputs": [],
   "source": [
    "import colors\n",
    "import vec\n",
    "def test_points(camera,pos):\n",
    "    points = [ vec.Vec([np.cos(th),np.sin(th),0,0]) + pos for th in np.linspace(0,2*np.pi,200)]\n",
    "    draw.draw_points(camera,points,colors.GREEN)"
   ]
  },
  {
   "cell_type": "code",
   "execution_count": null,
   "metadata": {
    "run_control": {
     "frozen": false,
     "read_only": false
    },
    "scrolled": true
   },
   "outputs": [
    {
     "name": "stdout",
     "output_type": "stream",
     "text": [
      "init GL\n",
      "29.455940318940094 fps\n",
      "28.40121721354299 fps\n",
      "31.20480342145999 fps\n",
      "44.486588170351645 fps\n",
      "44.55116415204789 fps\n",
      "32.14190505001965 fps\n",
      "24.49708264046218 fps\n",
      "26.245926061658498 fps\n",
      "41.09737486114046 fps\n",
      "40.59477370196799 fps\n",
      "46.03820246361513 fps\n",
      "46.49907984170273 fps\n",
      "46.49135416597141 fps\n",
      "44.05116544228582 fps\n",
      "47.498856214409436 fps\n",
      "38.491162541025396 fps\n",
      "46.52030109822789 fps\n",
      "46.02725620657181 fps\n",
      "47.02863767168994 fps\n",
      "45.9940016939815 fps\n",
      "45.998338520935555 fps\n",
      "46.49995011096585 fps\n",
      "46.49544945192336 fps\n",
      "46.51855564546254 fps\n",
      "46.99826318483504 fps\n",
      "47.498171101896055 fps\n",
      "47.50335187087874 fps\n",
      "47.007610238028164 fps\n",
      "47.49951303504455 fps\n",
      "46.99891307483476 fps\n",
      "47.525908467700816 fps\n",
      "47.52309823837228 fps\n",
      "47.99824339619605 fps\n",
      "46.515163913731456 fps\n",
      "48.017286093678486 fps\n",
      "44.99838536810925 fps\n",
      "47.99880984396368 fps\n",
      "47.5072807738912 fps\n",
      "46.99460508767373 fps\n",
      "46.515855391710964 fps\n",
      "46.99644807004018 fps\n",
      "47.00895232481784 fps\n",
      "45.99827272225529 fps\n",
      "47.01213038133545 fps\n",
      "46.534365408960745 fps\n",
      "47.01011700769134 fps\n",
      "46.520657889287406 fps\n",
      "47.49487604346045 fps\n",
      "47.51463029567402 fps\n",
      "47.019059257444646 fps\n",
      "47.501289597022605 fps\n"
     ]
    }
   ],
   "source": [
    "#does not draw before input / does not update camera properly?\n",
    "\n",
    "t = 0\n",
    "#size = width, height = 1100, 700\n",
    "size = width, height = 1600, 900\n",
    "\n",
    "pygame.init()\n",
    "\n",
    "if d == 3:\n",
    "    draw.init(d,size,focal=6,n_fuzz_points = 200)\n",
    "    draw.view_radius = 7\n",
    "    draw_view_height = 7\n",
    "    draw.view_boundary = 'none'\n",
    "    camera = Camera(pos = Point([0,0,-10]))\n",
    "    camera.target_shape = Geometry.build_3d_target()\n",
    "    #camera.update_rot_matrix(0,-1,-3*np.pi/4)\n",
    "    #camera.update_rot_matrix(1,-1,-np.pi/4)\n",
    "    camera.look_at(vec.zero_vec(d))\n",
    "    #camera.look_at(vec.zero_vec(d))\n",
    "    #camera = Camera(pos = Point([0,0,0]))\n",
    "if d == 4:\n",
    "    draw.init(d,size,stereo=False,n_fuzz_points = 200)\n",
    "    draw.view_boundary = 'none'\n",
    "    if draw.stereo:\n",
    "        draw.view_radius = 4\n",
    "    else:\n",
    "        draw.view_radius = 6\n",
    "        draw.view_height = 4\n",
    "    #camera = Camera(pos = Point([0,0,0,0]))\n",
    "    draw.face_scales = [0.9]\n",
    "    #draw_class.stereo_view_angles = [[-30,0],[0,0]]\n",
    "    #camera = Camera(pos = Point([0,0,0,0]))\n",
    "    camera = Camera(pos = vec.one_hot(d,-1)*(-5))\n",
    "    camera.look_at(vec.zero_vec(d))\n",
    "    #camera.update_rot_matrix(0,-1,-3*np.pi/4)\n",
    "    #camera.update_rot_matrix(2,-1,-np.pi/4)\n",
    "    #camera.update_rot_matrix(1,-1,-np.pi/4)\n",
    "#camera.update_rot_matrix(2,3,-np.pi/4)\n",
    "draw.clipping = True\n",
    "quit = False\n",
    "redraw = True\n",
    "timer = time.time()\n",
    "t0 = time.time()\n",
    "frame = 0\n",
    "try:\n",
    "    while not quit:\n",
    "\n",
    "        if redraw:\n",
    "            draw.draw(camera,shapes+ [camera.target_shape])\n",
    "            draw.clip_and_draw_lines(floor_lines,camera,(0.2,0.2,0.2),None,shapes)\n",
    "            #test_points(camera,shapes[0].pos)\n",
    "            #draw.draw_wireframe(camera,cylinder_shape,GRAY)\n",
    "            #draw.draw_normals(camera,shapes[0],WHITE)\n",
    "            pygame.display.flip()\n",
    "            redraw = False\n",
    "            \n",
    "        #this is here so that we draw on the first frame\n",
    "        redraw, quit = input_update(camera, shapes)\n",
    "        #camera.update_rot_matrix(0, 2, camera.ang_speed/2)\n",
    "        #cylinder_shape.rotate(0,2,0.01)\n",
    "        #cylinder_shape.rotate(1,3,0.02)\n",
    "        redraw = True #redraw every loop. useful for assessing framerate\n",
    "\n",
    "\n",
    "        delta_t = (time.time() - timer)\n",
    "        if delta_t > 2:\n",
    "        #if False:\n",
    "            #print('redraw:',redraw)\n",
    "            try:\n",
    "                #fps = 30/(time.time() - timer)\n",
    "                fps = frame/delta_t\n",
    "            except:\n",
    "                fps = 0\n",
    "            #if fps < 60:\n",
    "            print(fps,'fps')\n",
    "            timer = time.time()\n",
    "            frame = 0\n",
    "        frame = frame+1\n",
    "except:\n",
    "    pygame.quit()\n",
    "    print('game terminated')\n",
    "    raise\n",
    "pygame.quit()\n",
    "print('game terminated')"
   ]
  },
  {
   "cell_type": "code",
   "execution_count": 188,
   "metadata": {
    "collapsed": true,
    "run_control": {
     "frozen": false,
     "read_only": false
    }
   },
   "outputs": [],
   "source": [
    "pygame.quit()"
   ]
  },
  {
   "cell_type": "markdown",
   "metadata": {
    "run_control": {
     "frozen": false,
     "read_only": false
    }
   },
   "source": [
    "# workspace"
   ]
  },
  {
   "cell_type": "code",
   "execution_count": 79,
   "metadata": {
    "run_control": {
     "frozen": false,
     "read_only": false
    }
   },
   "outputs": [
    {
     "data": {
      "text/plain": [
       "6.327947685764504"
      ]
     },
     "execution_count": 79,
     "metadata": {},
     "output_type": "execute_result"
    }
   ],
   "source": [
    "import vec\n",
    "vec.norm(Vec([-5.55299282,  3.03433562]))"
   ]
  },
  {
   "cell_type": "code",
   "execution_count": 7,
   "metadata": {
    "collapsed": true,
    "run_control": {
     "frozen": false,
     "read_only": false
    }
   },
   "outputs": [],
   "source": [
    "def check_normals(shape):\n",
    "    def check_face(face):\n",
    "        vertis = face.get_verts(shape)\n",
    "        verts = [shape.verts_ref[vi] for vi in vertis]\n",
    "        center = face.center\n",
    "        dots = [vec.dot(v-face.center,face.normal_ref) for v in verts]\n",
    "        return np.all(vec.isclose(dots,vec.zero_vec(len(dots))))\n",
    "    return [check_face(face) for face in shape.faces]"
   ]
  },
  {
   "cell_type": "code",
   "execution_count": 119,
   "metadata": {
    "run_control": {
     "frozen": false,
     "read_only": false
    }
   },
   "outputs": [
    {
     "name": "stdout",
     "output_type": "stream",
     "text": [
      "[-0.         -0.         -0.70710678 -0.70710678]\n",
      "[-5.65986790e-17  0.00000000e+00  7.07106781e-01  7.07106781e-01]\n"
     ]
    }
   ],
   "source": [
    "from numpy.linalg import svd\n",
    "def test(shape,face):\n",
    "        verts_in_face = [shape.verts[vi] for vi in face.get_verts(shape)]\n",
    "        rel_verts = [v - face.center for v in verts_in_face]\n",
    "        #find vector perpendicular to all vertices\n",
    "        return svd(np.array(rel_verts))\n",
    "print(test(cylinder_shape,cylinder_shape.faces[5])[-1][-1])\n",
    "print(cylinder_shape.faces[5].normal_ref)"
   ]
  },
  {
   "cell_type": "code",
   "execution_count": 141,
   "metadata": {
    "run_control": {
     "frozen": false,
     "read_only": false
    }
   },
   "outputs": [
    {
     "data": {
      "text/plain": [
       "True"
      ]
     },
     "execution_count": 141,
     "metadata": {},
     "output_type": "execute_result"
    }
   ],
   "source": [
    "cylinder_shape.check_normals()"
   ]
  },
  {
   "cell_type": "code",
   "execution_count": 142,
   "metadata": {
    "run_control": {
     "frozen": false,
     "read_only": false
    }
   },
   "outputs": [
    {
     "data": {
      "text/plain": [
       "Line([0 0],[ 0.66666667 -2.        ])"
      ]
     },
     "execution_count": 142,
     "metadata": {},
     "output_type": "execute_result"
    }
   ],
   "source": [
    "Clipping.clip_line_plane(Geometry.Line(Vec([0,0]),Vec([1,-3])),Geometry.HyperPlane(vec.one_hot(2,1),-2))"
   ]
  },
  {
   "cell_type": "code",
   "execution_count": 52,
   "metadata": {
    "run_control": {
     "frozen": false,
     "read_only": false
    }
   },
   "outputs": [
    {
     "name": "stdout",
     "output_type": "stream",
     "text": [
      "([array([4., 0.]), array([-4.,  0.])], (6.0, -2.0))\n"
     ]
    }
   ],
   "source": [
    "from vec import Vec\n",
    "test =Clipping.sphere_line_intersect(Geometry.Line(Vec([2,0]),Vec([-2,0])),4,return_ts=True)\n",
    "print(test)"
   ]
  },
  {
   "cell_type": "code",
   "execution_count": 64,
   "metadata": {
    "run_control": {
     "frozen": false,
     "read_only": false
    }
   },
   "outputs": [
    {
     "name": "stdout",
     "output_type": "stream",
     "text": [
      "[(0, 1), (1, 2), (2, 3), (3, 0), (4, 5), (5, 6), (6, 7), (7, 4), (8, 9), (9, 10), (10, 11), (11, 8)]\n"
     ]
    },
    {
     "data": {
      "text/plain": [
       "[(0, 4),\n",
       " (1, 5),\n",
       " (2, 6),\n",
       " (3, 7),\n",
       " (4, 8),\n",
       " (5, 9),\n",
       " (6, 10),\n",
       " (7, 11),\n",
       " (8, 0),\n",
       " (9, 1),\n",
       " (10, 2),\n",
       " (11, 3)]"
      ]
     },
     "execution_count": 64,
     "metadata": {},
     "output_type": "execute_result"
    }
   ],
   "source": [
    "n_circ_pts = [3,4]\n",
    "print([(j+i*n_circ_pts[1],(j+1)%n_circ_pts[1]+i*n_circ_pts[1])\n",
    "        for i,j in itertools.product(range(n_circ_pts[0]),range(n_circ_pts[1]))])\n",
    "[(j+i*n_circ_pts[1],j + ((i+1)%n_circ_pts[0])*n_circ_pts[1])\n",
    "        for i,j in itertools.product(range(n_circ_pts[0]),range(n_circ_pts[1]))]"
   ]
  },
  {
   "cell_type": "code",
   "execution_count": 58,
   "metadata": {
    "run_control": {
     "frozen": false,
     "read_only": false
    }
   },
   "outputs": [
    {
     "data": {
      "text/plain": [
       "[(0, 0),\n",
       " (0, 1),\n",
       " (0, 2),\n",
       " (0, 3),\n",
       " (1, 0),\n",
       " (1, 1),\n",
       " (1, 2),\n",
       " (1, 3),\n",
       " (2, 0),\n",
       " (2, 1),\n",
       " (2, 2),\n",
       " (2, 3)]"
      ]
     },
     "execution_count": 58,
     "metadata": {},
     "output_type": "execute_result"
    }
   ],
   "source": [
    "[(i,j) for i,j in itertools.product(range(n_circ_pts[0]),range(n_circ_pts[1]))]"
   ]
  },
  {
   "cell_type": "code",
   "execution_count": 67,
   "metadata": {
    "run_control": {
     "frozen": false,
     "read_only": false
    }
   },
   "outputs": [
    {
     "name": "stdout",
     "output_type": "stream",
     "text": [
      "[[ 1.          0.          0.          0.        ]\n",
      " [ 0.         -0.97774833  0.         -0.20978138]\n",
      " [ 0.          0.          1.          0.        ]\n",
      " [ 0.          0.20978138  0.         -0.97774833]]\n"
     ]
    }
   ],
   "source": [
    "shapes[0].update(angles=[0,time.time()])"
   ]
  },
  {
   "cell_type": "code",
   "execution_count": 68,
   "metadata": {
    "run_control": {
     "frozen": false,
     "read_only": false
    }
   },
   "outputs": [
    {
     "data": {
      "text/plain": [
       "1556095332.9433315"
      ]
     },
     "execution_count": 68,
     "metadata": {},
     "output_type": "execute_result"
    }
   ],
   "source": [
    "time.time()"
   ]
  },
  {
   "cell_type": "code",
   "execution_count": null,
   "metadata": {
    "collapsed": true,
    "run_control": {
     "frozen": false,
     "read_only": false
    }
   },
   "outputs": [],
   "source": []
  }
 ],
 "metadata": {
  "kernelspec": {
   "display_name": "Python 3",
   "language": "python",
   "name": "python3"
  },
  "language_info": {
   "codemirror_mode": {
    "name": "ipython",
    "version": 3
   },
   "file_extension": ".py",
   "mimetype": "text/x-python",
   "name": "python",
   "nbconvert_exporter": "python",
   "pygments_lexer": "ipython3",
   "version": "3.6.8"
  },
  "toc": {
   "base_numbering": 1,
   "nav_menu": {},
   "number_sections": true,
   "sideBar": true,
   "skip_h1_title": false,
   "title_cell": "Table of Contents",
   "title_sidebar": "Contents",
   "toc_cell": false,
   "toc_position": {},
   "toc_section_display": true,
   "toc_window_display": false
  }
 },
 "nbformat": 4,
 "nbformat_minor": 2
}
