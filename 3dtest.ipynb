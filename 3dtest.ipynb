{
 "cells": [
  {
   "cell_type": "markdown",
   "metadata": {
    "run_control": {
     "frozen": false,
     "read_only": false
    }
   },
   "source": [
    "# init"
   ]
  },
  {
   "cell_type": "code",
   "execution_count": 26,
   "metadata": {
    "run_control": {
     "frozen": false,
     "read_only": false
    }
   },
   "outputs": [],
   "source": [
    "import pygame\n",
    "import numpy as np\n",
    "import numpy.linalg as lin\n",
    "import sys\n",
    "import importlib\n",
    "import itertools\n",
    "import time\n",
    "\n",
    "import Clipping\n",
    "\n",
    "from Geometry import *\n",
    "from camera import Camera\n",
    "import draw\n",
    "from inputs import input_update"
   ]
  },
  {
   "cell_type": "markdown",
   "metadata": {
    "run_control": {
     "frozen": false,
     "read_only": false
    }
   },
   "source": [
    "# reload modules"
   ]
  },
  {
   "cell_type": "code",
   "execution_count": 51,
   "metadata": {
    "run_control": {
     "frozen": false,
     "read_only": false
    }
   },
   "outputs": [],
   "source": [
    "\n",
    "importlib.reload(Clipping)\n",
    "importlib.reload(sys.modules['Geometry'])\n",
    "importlib.reload(sys.modules['vec'])\n",
    "importlib.reload(sys.modules['util'])\n",
    "importlib.reload(sys.modules['opengl_draw_2d'])\n",
    "importlib.reload(sys.modules['opengl_draw_3d'])\n",
    "from Geometry import *\n",
    "\n",
    "importlib.reload(sys.modules['camera'])\n",
    "from camera import Camera\n",
    "importlib.reload(sys.modules['inputs'])\n",
    "from inputs import input_update\n",
    "\n",
    "importlib.reload(sys.modules['draw'])\n",
    "import draw\n",
    "\n"
   ]
  },
  {
   "cell_type": "markdown",
   "metadata": {
    "run_control": {
     "frozen": false,
     "read_only": false
    }
   },
   "source": [
    "# build shapes"
   ]
  },
  {
   "cell_type": "code",
   "execution_count": 57,
   "metadata": {
    "run_control": {
     "frozen": false,
     "read_only": false
    }
   },
   "outputs": [],
   "source": [
    "from colors import *\n",
    "    \n",
    "d = 4 #set dimensionality\n",
    "cube_face_colors = [RED,YELLOW,GREEN,CYAN,MAGENTA, WHITE]\n",
    "tess_face_colors = cube_face_colors + [ORANGE,PURPLE]\n",
    "\n",
    "cube_shape = build_cube(d)\n",
    "\n",
    "\n",
    "if d == 4:\n",
    "    for face, color in zip(cube_shape.faces,tess_face_colors):\n",
    "        face.color = color\n",
    "    shapes = []\n",
    "    for i in range(4):\n",
    "        cube = cube_shape.copy()\n",
    "        cube.update(pos = 2*np.eye(d)[i])\n",
    "        shapes.append(cube)\n",
    "        cube = cube_shape.copy()\n",
    "        cube.update(pos = -2*np.eye(d)[i])\n",
    "        shapes.append(cube)\n",
    "    \n",
    "    #shapes = [cube_shape] #single cube\n",
    "    #cube_shape.transparent = True\n",
    "if d == 3:\n",
    "    for face, color in zip(cube_shape.faces,cube_face_colors):\n",
    "        face.color = color\n",
    "    cube1 = cube_shape.copy()\n",
    "    cube1.update(pos=np.array([2,0,0]))\n",
    "\n",
    "    cube2 = cube_shape.copy()\n",
    "    cube2.update(pos=np.array([-2,0,0]))\n",
    "\n",
    "    cube3 = cube_shape.copy()\n",
    "    cube3.update(pos=np.array([0,0,2]))\n",
    "\n",
    "    cube4 = cube_shape.copy()\n",
    "    cube4.update(pos=np.array([0,0,-2]))\n",
    "\n",
    "    cube5 = cube_shape.copy()\n",
    "    cube5.update(pos=np.array([0,-2,0]))\n",
    "    \n",
    "    shapes = [cube1,cube2,cube3,cube4,cube5]\n",
    "    shapes[0].transparent = True\n",
    "for i,shape in enumerate(shapes):\n",
    "    shape.name = 'shape ' + str(i)\n",
    "\n",
    "shape_combinations = list(itertools.combinations(shapes,2))"
   ]
  },
  {
   "cell_type": "markdown",
   "metadata": {
    "run_control": {
     "frozen": false,
     "read_only": false
    }
   },
   "source": [
    "# main loop"
   ]
  },
  {
   "cell_type": "markdown",
   "metadata": {},
   "source": [
    "Would like draw.py to have clearer distinctions between the various spaces. The layers are\n",
    "1. The d-dim local spaces that shape.verts_ref, ref_frame, and face.normal_ref etc live in\n",
    "2. The d-dim world space that rotated, scaled and positioned shapes (and faces) and cameras live\n",
    "3. The d-dim space rotated and translated wrt to a camera\n",
    "4. The (d-1)-dim space that shapes are projected on to\n",
    "5. The (d-1)-dim graphics backend (openGL)\n",
    "\n",
    "It would be nice if we could organize code according to these layers.\n",
    "\n",
    "Does clipping happen in 2 or 3? Where should it happen?"
   ]
  },
  {
   "cell_type": "code",
   "execution_count": 58,
   "metadata": {
    "run_control": {
     "frozen": false,
     "read_only": false
    },
    "scrolled": true
   },
   "outputs": [
    {
     "name": "stdout",
     "output_type": "stream",
     "text": [
      "init GL\n",
      "70.25869378725237 fps\n",
      "38.730461018117225 fps\n",
      "27.515563715742317 fps\n",
      "23.383001479969174 fps\n",
      "23.108676807107912 fps\n",
      "23.3953754764054 fps\n",
      "23.52916196408543 fps\n",
      "23.541107951014304 fps\n",
      "17.25724145608633 fps\n",
      "16.31103284171943 fps\n",
      "17.096864846961015 fps\n",
      "15.188699493968661 fps\n",
      "26.958241535364326 fps\n",
      "51.05936188874106 fps\n",
      "44.45910038022587 fps\n",
      "26.291218102704093 fps\n",
      "22.397149702492303 fps\n",
      "14.120351992982707 fps\n",
      "13.392814162775032 fps\n",
      "10.747384309010444 fps\n",
      "10.337074716843667 fps\n",
      "10.35339310174104 fps\n",
      "10.243214103755816 fps\n",
      "10.237312610226715 fps\n",
      "10.330375169958442 fps\n",
      "10.343593464728183 fps\n",
      "10.236432195902703 fps\n",
      "10.340259014845744 fps\n",
      "10.256322404831629 fps\n",
      "10.243713250780777 fps\n",
      "10.380610593621492 fps\n",
      "12.292713967696129 fps\n",
      "13.499205787161534 fps\n",
      "11.232455814023892 fps\n",
      "13.012308044794173 fps\n",
      "12.047256750656635 fps\n",
      "11.934222842084909 fps\n",
      "11.459661853883093 fps\n",
      "11.777701467156838 fps\n",
      "11.989883375819439 fps\n",
      "11.834370325365166 fps\n",
      "11.867317221771158 fps\n",
      "11.968946914595454 fps\n",
      "game terminated\n"
     ]
    }
   ],
   "source": [
    "\n",
    "t = 0\n",
    "#size = width, height = 1100, 700\n",
    "size = width, height = 1600, 900\n",
    "\n",
    "pygame.init()\n",
    "\n",
    "#default arguments are annoying for inheritance.\n",
    "#this is why draw_origin and focal are specified here\n",
    "if d == 3:\n",
    "    draw.init(d,size,focal=6)\n",
    "    draw.view_radius = 7\n",
    "\n",
    "    camera = Camera(pos = Point([0.8,2,0.8]))\n",
    "    camera.update_rot_matrix(0,-1,-3*np.pi/4)\n",
    "    camera.update_rot_matrix(1,-1,-np.pi/4)\n",
    "\n",
    "if d == 4:\n",
    "    draw.init(d,size,stereo=True)\n",
    "    if draw.stereo:\n",
    "        draw.view_radius = 4\n",
    "    else:\n",
    "        draw.view_radius = 6\n",
    "    draw.face_scales = [0.95,0.5]\n",
    "    #draw_class.stereo_view_angles = [[-30,0],[0,0]]\n",
    "    camera = Camera(pos = Point([0,0,0,0]))\n",
    "    #camera.look_at(np.array([2,2,2,2]))\n",
    "    #camera = Camera(pos = np.array([0.8,2,0.8,0.8]),draw_class = draw_class)\n",
    "    #camera.update_rot_matrix(0,-1,-3*np.pi/4)\n",
    "    #camera.update_rot_matrix(2,-1,-np.pi/4)\n",
    "    #camera.update_rot_matrix(1,-1,-np.pi/4)\n",
    "#camera.update_rot_matrix(2,3,-np.pi/4)\n",
    "draw.clipping = True\n",
    "quit = False\n",
    "redraw = True\n",
    "timer = time.time()\n",
    "frame = 0\n",
    "try:\n",
    "    while not quit:\n",
    "\n",
    "        if redraw:\n",
    "            draw.draw(camera,shapes)\n",
    "            pygame.display.flip()\n",
    "            redraw = False\n",
    "\n",
    "        #this is here so that we draw on the first frame\n",
    "        redraw, quit = input_update(camera, draw, shapes) \n",
    "        redraw = True #redraw every loop. useful for assessing framerate\n",
    "\n",
    "\n",
    "        delta_t = (time.time() - timer)\n",
    "        if delta_t > 2:\n",
    "        #if False:\n",
    "            #print('redraw:',redraw)\n",
    "            try:\n",
    "                #fps = 30/(time.time() - timer)\n",
    "                fps = frame/delta_t\n",
    "            except:\n",
    "                fps = 0\n",
    "            #if fps < 60:\n",
    "            print(fps,'fps')\n",
    "            timer = time.time()\n",
    "            frame = 0\n",
    "        frame = frame+1\n",
    "except:\n",
    "    pygame.quit()\n",
    "    print('game terminated')\n",
    "    raise\n",
    "pygame.quit()\n",
    "print('game terminated')"
   ]
  },
  {
   "cell_type": "code",
   "execution_count": 24,
   "metadata": {
    "collapsed": true,
    "run_control": {
     "frozen": false,
     "read_only": false
    }
   },
   "outputs": [],
   "source": [
    "pygame.quit()"
   ]
  },
  {
   "cell_type": "code",
   "execution_count": 35,
   "metadata": {},
   "outputs": [
    {
     "data": {
      "text/plain": [
       "False"
      ]
     },
     "execution_count": 35,
     "metadata": {},
     "output_type": "execute_result"
    }
   ],
   "source": [
    "draw.stereo"
   ]
  },
  {
   "cell_type": "code",
   "execution_count": null,
   "metadata": {
    "collapsed": true
   },
   "outputs": [],
   "source": []
  }
 ],
 "metadata": {
  "kernelspec": {
   "display_name": "Python 3",
   "language": "python",
   "name": "python3"
  },
  "language_info": {
   "codemirror_mode": {
    "name": "ipython",
    "version": 3
   },
   "file_extension": ".py",
   "mimetype": "text/x-python",
   "name": "python",
   "nbconvert_exporter": "python",
   "pygments_lexer": "ipython3",
   "version": "3.6.8"
  },
  "toc": {
   "base_numbering": 1,
   "nav_menu": {},
   "number_sections": true,
   "sideBar": true,
   "skip_h1_title": false,
   "title_cell": "Table of Contents",
   "title_sidebar": "Contents",
   "toc_cell": false,
   "toc_position": {},
   "toc_section_display": true,
   "toc_window_display": false
  }
 },
 "nbformat": 4,
 "nbformat_minor": 2
}
