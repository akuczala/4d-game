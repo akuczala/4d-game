{
 "cells": [
  {
   "cell_type": "markdown",
   "metadata": {
    "run_control": {
     "frozen": false,
     "read_only": false
    }
   },
   "source": [
    "# init"
   ]
  },
  {
   "cell_type": "code",
   "execution_count": 1,
   "metadata": {
    "run_control": {
     "frozen": false,
     "read_only": false
    }
   },
   "outputs": [],
   "source": [
    "import pygame\n",
    "import numpy as np\n",
    "import numpy.linalg as lin\n",
    "import sys\n",
    "import importlib\n",
    "import itertools\n",
    "import time\n",
    "\n",
    "import Clipping\n",
    "\n",
    "import Geometry\n",
    "from Geometry import Point\n",
    "from camera import Camera\n",
    "import draw\n",
    "import vec\n",
    "from inputs import input_update"
   ]
  },
  {
   "cell_type": "markdown",
   "metadata": {
    "run_control": {
     "frozen": false,
     "read_only": false
    }
   },
   "source": [
    "# reload modules"
   ]
  },
  {
   "cell_type": "code",
   "execution_count": 121,
   "metadata": {
    "run_control": {
     "frozen": false,
     "read_only": false
    }
   },
   "outputs": [],
   "source": [
    "\n",
    "importlib.reload(Clipping)\n",
    "importlib.reload(Geometry)\n",
    "importlib.reload(sys.modules['vec'])\n",
    "importlib.reload(sys.modules['util'])\n",
    "importlib.reload(sys.modules['opengl_draw_2d'])\n",
    "importlib.reload(sys.modules['opengl_draw_3d'])\n",
    "import Geometry\n",
    "\n",
    "importlib.reload(sys.modules['camera'])\n",
    "from camera import Camera\n",
    "importlib.reload(sys.modules['inputs'])\n",
    "from inputs import input_update\n",
    "\n",
    "importlib.reload(sys.modules['draw'])\n",
    "import draw\n",
    "\n"
   ]
  },
  {
   "cell_type": "markdown",
   "metadata": {
    "run_control": {
     "frozen": false,
     "read_only": false
    }
   },
   "source": [
    "# build shapes"
   ]
  },
  {
   "cell_type": "code",
   "execution_count": 123,
   "metadata": {
    "run_control": {
     "frozen": false,
     "read_only": false
    }
   },
   "outputs": [],
   "source": [
    "from colors import *\n",
    "    \n",
    "d = 3 #set dimensionality\n",
    "cube_face_colors = [RED,YELLOW,GREEN,CYAN,MAGENTA, WHITE]\n",
    "tess_face_colors = cube_face_colors + [ORANGE,PURPLE]\n",
    "\n",
    "cube_shape = Geometry.build_cube(d)\n",
    "\n",
    "#draw a pair of cubes for each axis\n",
    "for face, color in zip(cube_shape.faces,tess_face_colors):\n",
    "    face.color = color\n",
    "shapes = []\n",
    "r = 4\n",
    "for i in range(d):\n",
    "    cube = cube_shape.copy()\n",
    "    cube.update(pos = r*np.eye(d)[i])\n",
    "    shapes.append(cube)\n",
    "    cube = cube_shape.copy()\n",
    "    cube.update(pos = -r*np.eye(d)[i])\n",
    "    shapes.append(cube)\n",
    "#shapes = shapes[:2] + shapes[-4:] \n",
    "#shapes = shapes[:2] + shapes[-2:]\n",
    "#shapes.pop(2) #removes top cube\n",
    "#cube_shape.transparent = True\n",
    "    \n",
    "for i,shape in enumerate(shapes):\n",
    "    shape.name = 'shape ' + str(i)"
   ]
  },
  {
   "cell_type": "code",
   "execution_count": 124,
   "metadata": {
    "run_control": {
     "frozen": false,
     "read_only": false
    }
   },
   "outputs": [
    {
     "name": "stdout",
     "output_type": "stream",
     "text": [
      "Warning: not all normals perpendicular\n"
     ]
    }
   ],
   "source": [
    "d = 3\n",
    "sphere_shape = Geometry.build_sphere_3d(r=1,phi_pts=10,theta_pts=5)\n",
    "#shapes = [sphere_shape]\n",
    "shapes.append(sphere_shape)"
   ]
  },
  {
   "cell_type": "code",
   "execution_count": 48,
   "metadata": {},
   "outputs": [],
   "source": []
  },
  {
   "cell_type": "code",
   "execution_count": 17,
   "metadata": {
    "run_control": {
     "frozen": false,
     "read_only": false
    }
   },
   "outputs": [
    {
     "name": "stdout",
     "output_type": "stream",
     "text": [
      "Warning: not all normals perpendicular\n"
     ]
    }
   ],
   "source": [
    "d = 4\n",
    "m = 16; n = 16\n",
    "cylinder_shape = Geometry.build_duocylinder(rs=[1,1],axes=[[0,1],[2,3]],n_circ_pts=[m,n])\n",
    "#cylinder_shape.transparent = True\n",
    "for i,face in enumerate(cylinder_shape.faces[:m]):\n",
    "    face.color = ORANGE\n",
    "    #face.color = (np.cos(2*np.pi*i/m)**2,np.sin(2*np.pi*i/m)**2,1)\n",
    "    #face.color = ((i+1)%2,(i+1)%2,i%2)\n",
    "for i,face in enumerate(cylinder_shape.faces[m:]):\n",
    "    face.color = CYAN\n",
    "    #face.color = (1,np.cos(2*np.pi*i/m)**2,np.sin(2*np.pi*i/m)**2)\n",
    "    #face.color = ((i+1)%2,i%2,(i+1)%2)\n",
    "    #face.color = ((i+1)%2,(i+1)%2,i%2)\n",
    "shapes = [cylinder_shape]\n"
   ]
  },
  {
   "cell_type": "markdown",
   "metadata": {
    "run_control": {
     "frozen": false,
     "read_only": false
    }
   },
   "source": [
    "# main loop"
   ]
  },
  {
   "cell_type": "markdown",
   "metadata": {
    "run_control": {
     "frozen": false,
     "read_only": false
    }
   },
   "source": [
    "Would like draw.py to have clearer distinctions between the various spaces. The layers are\n",
    "1. The d-dim local spaces that shape.verts_ref, ref_frame, and face.normal_ref etc live in\n",
    "2. The d-dim world space that rotated, scaled and positioned shapes (and faces) and cameras live\n",
    "3. The d-dim space rotated and translated wrt to a camera\n",
    "4. The (d-1)-dim space that shapes are projected on to\n",
    "5. The (d-1)-dim graphics backend (openGL)\n",
    "\n",
    "It would be nice if we could organize code according to these layers.\n",
    "\n",
    "Clipping happens in 2\n",
    "\n",
    "Todo: \n",
    "- fix target shape clipping\n",
    "- speed up /generalize floor drawing\n",
    "- speed up clipping\n",
    "- find a way to make the center obvious wrt objects in the view. does rotation help or hurt? how can one navigate with a rotating viewport?\n",
    "- other points of reference at infinity\n",
    "- a floor and ceiling\n",
    "- implement cubinders, spherinders\n",
    "- generalize face fuzz to all convex faces, invariant to edge order"
   ]
  },
  {
   "cell_type": "code",
   "execution_count": 24,
   "metadata": {
    "collapsed": true,
    "run_control": {
     "frozen": false,
     "read_only": false
    }
   },
   "outputs": [],
   "source": [
    "import colors\n",
    "import vec\n",
    "def test_points(camera,pos):\n",
    "    points = [ vec.Vec([np.cos(th),np.sin(th),0,0]) + pos for th in np.linspace(0,2*np.pi,200)]\n",
    "    draw.draw_points(camera,points,colors.GREEN)"
   ]
  },
  {
   "cell_type": "code",
   "execution_count": 125,
   "metadata": {
    "run_control": {
     "frozen": false,
     "read_only": false
    },
    "scrolled": true
   },
   "outputs": [
    {
     "name": "stdout",
     "output_type": "stream",
     "text": [
      "init GL\n"
     ]
    },
    {
     "name": "stderr",
     "output_type": "stream",
     "text": [
      "C:\\Users\\kook\\Documents\\python\\4d\\4d-game\\Clipping.py:246: RuntimeWarning: invalid value encountered in double_scalars\n",
      "  tm = (-b - sqrt_discr)/(2*a)\n",
      "C:\\Users\\kook\\Documents\\python\\4d\\4d-game\\Clipping.py:247: RuntimeWarning: invalid value encountered in double_scalars\n",
      "  tp = (-b + sqrt_discr)/(2*a)\n"
     ]
    },
    {
     "name": "stdout",
     "output_type": "stream",
     "text": [
      "13.145852457851767 fps\n",
      "13.713223464549534 fps\n"
     ]
    },
    {
     "name": "stderr",
     "output_type": "stream",
     "text": [
      "C:\\Users\\kook\\Documents\\python\\4d\\4d-game\\Clipping.py:247: RuntimeWarning: divide by zero encountered in double_scalars\n",
      "  tp = (-b + sqrt_discr)/(2*a)\n",
      "C:\\Users\\kook\\Documents\\python\\4d\\4d-game\\Clipping.py:246: RuntimeWarning: divide by zero encountered in double_scalars\n",
      "  tm = (-b - sqrt_discr)/(2*a)\n"
     ]
    },
    {
     "name": "stdout",
     "output_type": "stream",
     "text": [
      "11.754195658563123 fps\n"
     ]
    },
    {
     "name": "stderr",
     "output_type": "stream",
     "text": [
      "C:\\Users\\kook\\Documents\\python\\4d\\4d-game\\Clipping.py:151: RuntimeWarning: invalid value encountered in greater_equal\n",
      "  p0_safe = p0n >= th\n",
      "C:\\Users\\kook\\Documents\\python\\4d\\4d-game\\Clipping.py:152: RuntimeWarning: invalid value encountered in greater_equal\n",
      "  p1_safe = p1n >= th\n"
     ]
    },
    {
     "name": "stdout",
     "output_type": "stream",
     "text": [
      "11.87628071984469 fps\n",
      "11.87626810935908 fps\n",
      "11.759876465759973 fps\n",
      "10.93506890684328 fps\n",
      "12.003081540632952 fps\n",
      "10.562702082831095 fps\n",
      "12.249950028265719 fps\n",
      "transparency True\n",
      "9.309992475301149 fps\n",
      "transparency False\n",
      "9.305388597866008 fps\n",
      "9.6954477000408 fps\n",
      "10.886663871302504 fps\n",
      "15.672248068025855 fps\n",
      "10.932585462784566 fps\n",
      "9.309979423639952 fps\n",
      "9.03131640317509 fps\n",
      "8.000848299098593 fps\n",
      "7.843819442528878 fps\n",
      "7.9213727590109055 fps\n",
      "7.422670195532068 fps\n",
      "8.004553299536834 fps\n",
      "8.245076734201984 fps\n",
      "8.556094500524942 fps\n",
      "8.90727254193519 fps\n",
      "10.396866788954439 fps\n"
     ]
    },
    {
     "name": "stderr",
     "output_type": "stream",
     "text": [
      "C:\\Users\\kook\\Documents\\python\\4d\\4d-game\\vec.py:93: RuntimeWarning: invalid value encountered in add\n",
      "  return v1 * (1 - x) + v2 * x\n",
      "C:\\Users\\kook\\Documents\\python\\4d\\4d-game\\vec.py:93: RuntimeWarning: invalid value encountered in double_scalars\n",
      "  return v1 * (1 - x) + v2 * x\n"
     ]
    },
    {
     "name": "stdout",
     "output_type": "stream",
     "text": [
      "11.407923022499709 fps\n",
      "9.122402537045126 fps\n",
      "8.725889819180795 fps\n",
      "9.027037123754873 fps\n",
      "8.730181189125183 fps\n",
      "9.602405876228143 fps\n",
      "9.402121016487147 fps\n",
      "9.117963498066667 fps\n",
      "7.917517677564341 fps\n",
      "8.00083573039167 fps\n",
      "7.9174859179389605 fps\n",
      "7.760110805758513 fps\n",
      "game terminated\n"
     ]
    }
   ],
   "source": [
    "#does not draw before input / does not update camera properly?\n",
    "\n",
    "t = 0\n",
    "#size = width, height = 1100, 700\n",
    "size = width, height = 1600, 900\n",
    "\n",
    "pygame.init()\n",
    "\n",
    "if d == 3:\n",
    "    draw.init(d,size,focal=6,n_fuzz_points = 200)\n",
    "    draw.view_radius = 7\n",
    "    draw_view_height = 7\n",
    "    draw.view_boundary = 'cylinder'\n",
    "    camera = Camera(pos = Point([0,0,-10]))\n",
    "    camera.target_shape = Geometry.build_3d_target()\n",
    "    #camera.update_rot_matrix(0,-1,-3*np.pi/4)\n",
    "    #camera.update_rot_matrix(1,-1,-np.pi/4)\n",
    "    camera.look_at(vec.zero_vec(d))\n",
    "    #camera.look_at(vec.zero_vec(d))\n",
    "    #camera = Camera(pos = Point([0,0,0]))\n",
    "if d == 4:\n",
    "    draw.init(d,size,stereo=False,n_fuzz_points = 200)\n",
    "    draw.view_boundary = 'sphere'\n",
    "    if draw.stereo:\n",
    "        draw.view_radius = 4\n",
    "    else:\n",
    "        draw.view_radius = 6\n",
    "        draw.view_height = 4\n",
    "    #camera = Camera(pos = Point([0,0,0,0]))\n",
    "    draw.face_scales = [0.9]\n",
    "    #draw_class.stereo_view_angles = [[-30,0],[0,0]]\n",
    "    #camera = Camera(pos = Point([0,0,0,0]))\n",
    "    camera = Camera(pos = vec.one_hot(d,-1)*(-5))\n",
    "    camera.look_at(vec.zero_vec(d))\n",
    "    #camera.update_rot_matrix(0,-1,-3*np.pi/4)\n",
    "    #camera.update_rot_matrix(2,-1,-np.pi/4)\n",
    "    #camera.update_rot_matrix(1,-1,-np.pi/4)\n",
    "#camera.update_rot_matrix(2,3,-np.pi/4)\n",
    "draw.clipping = True\n",
    "quit = False\n",
    "redraw = True\n",
    "timer = time.time()\n",
    "t0 = time.time()\n",
    "frame = 0\n",
    "try:\n",
    "    while not quit:\n",
    "\n",
    "        if redraw:\n",
    "            draw.draw(camera,shapes+ [camera.target_shape])\n",
    "            draw.draw_floor(5,-5,WHITE,camera,shapes)\n",
    "            #test_points(camera,shapes[0].pos)\n",
    "            #draw.draw_wireframe(camera,cylinder_shape,GRAY)\n",
    "            #draw.draw_normals(camera,shapes[0],WHITE)\n",
    "            pygame.display.flip()\n",
    "            redraw = False\n",
    "            \n",
    "        #this is here so that we draw on the first frame\n",
    "        redraw, quit = input_update(camera, shapes)\n",
    "        #camera.update_rot_matrix(0, 2, camera.ang_speed/2)\n",
    "        #shapes[0].rotate(0,2,0.01)\n",
    "        redraw = True #redraw every loop. useful for assessing framerate\n",
    "\n",
    "\n",
    "        delta_t = (time.time() - timer)\n",
    "        if delta_t > 2:\n",
    "        #if False:\n",
    "            #print('redraw:',redraw)\n",
    "            try:\n",
    "                #fps = 30/(time.time() - timer)\n",
    "                fps = frame/delta_t\n",
    "            except:\n",
    "                fps = 0\n",
    "            #if fps < 60:\n",
    "            print(fps,'fps')\n",
    "            timer = time.time()\n",
    "            frame = 0\n",
    "        frame = frame+1\n",
    "except:\n",
    "    pygame.quit()\n",
    "    print('game terminated')\n",
    "    raise\n",
    "pygame.quit()\n",
    "print('game terminated')"
   ]
  },
  {
   "cell_type": "code",
   "execution_count": 188,
   "metadata": {
    "collapsed": true,
    "run_control": {
     "frozen": false,
     "read_only": false
    }
   },
   "outputs": [],
   "source": [
    "pygame.quit()"
   ]
  },
  {
   "cell_type": "markdown",
   "metadata": {
    "run_control": {
     "frozen": false,
     "read_only": false
    }
   },
   "source": [
    "# workspace"
   ]
  },
  {
   "cell_type": "code",
   "execution_count": 79,
   "metadata": {
    "run_control": {
     "frozen": false,
     "read_only": false
    }
   },
   "outputs": [
    {
     "data": {
      "text/plain": [
       "6.327947685764504"
      ]
     },
     "execution_count": 79,
     "metadata": {},
     "output_type": "execute_result"
    }
   ],
   "source": [
    "import vec\n",
    "vec.norm(Vec([-5.55299282,  3.03433562]))"
   ]
  },
  {
   "cell_type": "code",
   "execution_count": 7,
   "metadata": {
    "collapsed": true,
    "run_control": {
     "frozen": false,
     "read_only": false
    }
   },
   "outputs": [],
   "source": [
    "def check_normals(shape):\n",
    "    def check_face(face):\n",
    "        vertis = face.get_verts(shape)\n",
    "        verts = [shape.verts_ref[vi] for vi in vertis]\n",
    "        center = face.center\n",
    "        dots = [vec.dot(v-face.center,face.normal_ref) for v in verts]\n",
    "        return np.all(vec.isclose(dots,vec.zero_vec(len(dots))))\n",
    "    return [check_face(face) for face in shape.faces]"
   ]
  },
  {
   "cell_type": "code",
   "execution_count": 119,
   "metadata": {
    "run_control": {
     "frozen": false,
     "read_only": false
    }
   },
   "outputs": [
    {
     "name": "stdout",
     "output_type": "stream",
     "text": [
      "[-0.         -0.         -0.70710678 -0.70710678]\n",
      "[-5.65986790e-17  0.00000000e+00  7.07106781e-01  7.07106781e-01]\n"
     ]
    }
   ],
   "source": [
    "from numpy.linalg import svd\n",
    "def test(shape,face):\n",
    "        verts_in_face = [shape.verts[vi] for vi in face.get_verts(shape)]\n",
    "        rel_verts = [v - face.center for v in verts_in_face]\n",
    "        #find vector perpendicular to all vertices\n",
    "        return svd(np.array(rel_verts))\n",
    "print(test(cylinder_shape,cylinder_shape.faces[5])[-1][-1])\n",
    "print(cylinder_shape.faces[5].normal_ref)"
   ]
  },
  {
   "cell_type": "code",
   "execution_count": 141,
   "metadata": {
    "run_control": {
     "frozen": false,
     "read_only": false
    }
   },
   "outputs": [
    {
     "data": {
      "text/plain": [
       "True"
      ]
     },
     "execution_count": 141,
     "metadata": {},
     "output_type": "execute_result"
    }
   ],
   "source": [
    "cylinder_shape.check_normals()"
   ]
  },
  {
   "cell_type": "code",
   "execution_count": 142,
   "metadata": {
    "run_control": {
     "frozen": false,
     "read_only": false
    }
   },
   "outputs": [
    {
     "data": {
      "text/plain": [
       "Line([0 0],[ 0.66666667 -2.        ])"
      ]
     },
     "execution_count": 142,
     "metadata": {},
     "output_type": "execute_result"
    }
   ],
   "source": [
    "Clipping.clip_line_plane(Geometry.Line(Vec([0,0]),Vec([1,-3])),Geometry.HyperPlane(vec.one_hot(2,1),-2))"
   ]
  },
  {
   "cell_type": "code",
   "execution_count": 52,
   "metadata": {
    "run_control": {
     "frozen": false,
     "read_only": false
    }
   },
   "outputs": [
    {
     "name": "stdout",
     "output_type": "stream",
     "text": [
      "([array([4., 0.]), array([-4.,  0.])], (6.0, -2.0))\n"
     ]
    }
   ],
   "source": [
    "from vec import Vec\n",
    "test =Clipping.sphere_line_intersect(Geometry.Line(Vec([2,0]),Vec([-2,0])),4,return_ts=True)\n",
    "print(test)"
   ]
  },
  {
   "cell_type": "code",
   "execution_count": 64,
   "metadata": {
    "run_control": {
     "frozen": false,
     "read_only": false
    }
   },
   "outputs": [
    {
     "name": "stdout",
     "output_type": "stream",
     "text": [
      "[(0, 1), (1, 2), (2, 3), (3, 0), (4, 5), (5, 6), (6, 7), (7, 4), (8, 9), (9, 10), (10, 11), (11, 8)]\n"
     ]
    },
    {
     "data": {
      "text/plain": [
       "[(0, 4),\n",
       " (1, 5),\n",
       " (2, 6),\n",
       " (3, 7),\n",
       " (4, 8),\n",
       " (5, 9),\n",
       " (6, 10),\n",
       " (7, 11),\n",
       " (8, 0),\n",
       " (9, 1),\n",
       " (10, 2),\n",
       " (11, 3)]"
      ]
     },
     "execution_count": 64,
     "metadata": {},
     "output_type": "execute_result"
    }
   ],
   "source": [
    "n_circ_pts = [3,4]\n",
    "print([(j+i*n_circ_pts[1],(j+1)%n_circ_pts[1]+i*n_circ_pts[1])\n",
    "        for i,j in itertools.product(range(n_circ_pts[0]),range(n_circ_pts[1]))])\n",
    "[(j+i*n_circ_pts[1],j + ((i+1)%n_circ_pts[0])*n_circ_pts[1])\n",
    "        for i,j in itertools.product(range(n_circ_pts[0]),range(n_circ_pts[1]))]"
   ]
  },
  {
   "cell_type": "code",
   "execution_count": 58,
   "metadata": {
    "run_control": {
     "frozen": false,
     "read_only": false
    }
   },
   "outputs": [
    {
     "data": {
      "text/plain": [
       "[(0, 0),\n",
       " (0, 1),\n",
       " (0, 2),\n",
       " (0, 3),\n",
       " (1, 0),\n",
       " (1, 1),\n",
       " (1, 2),\n",
       " (1, 3),\n",
       " (2, 0),\n",
       " (2, 1),\n",
       " (2, 2),\n",
       " (2, 3)]"
      ]
     },
     "execution_count": 58,
     "metadata": {},
     "output_type": "execute_result"
    }
   ],
   "source": [
    "[(i,j) for i,j in itertools.product(range(n_circ_pts[0]),range(n_circ_pts[1]))]"
   ]
  },
  {
   "cell_type": "code",
   "execution_count": 67,
   "metadata": {
    "run_control": {
     "frozen": false,
     "read_only": false
    }
   },
   "outputs": [
    {
     "name": "stdout",
     "output_type": "stream",
     "text": [
      "[[ 1.          0.          0.          0.        ]\n",
      " [ 0.         -0.97774833  0.         -0.20978138]\n",
      " [ 0.          0.          1.          0.        ]\n",
      " [ 0.          0.20978138  0.         -0.97774833]]\n"
     ]
    }
   ],
   "source": [
    "shapes[0].update(angles=[0,time.time()])"
   ]
  },
  {
   "cell_type": "code",
   "execution_count": 68,
   "metadata": {
    "run_control": {
     "frozen": false,
     "read_only": false
    }
   },
   "outputs": [
    {
     "data": {
      "text/plain": [
       "1556095332.9433315"
      ]
     },
     "execution_count": 68,
     "metadata": {},
     "output_type": "execute_result"
    }
   ],
   "source": [
    "time.time()"
   ]
  },
  {
   "cell_type": "code",
   "execution_count": null,
   "metadata": {
    "collapsed": true,
    "run_control": {
     "frozen": false,
     "read_only": false
    }
   },
   "outputs": [],
   "source": []
  }
 ],
 "metadata": {
  "kernelspec": {
   "display_name": "Python 3",
   "language": "python",
   "name": "python3"
  },
  "language_info": {
   "codemirror_mode": {
    "name": "ipython",
    "version": 3
   },
   "file_extension": ".py",
   "mimetype": "text/x-python",
   "name": "python",
   "nbconvert_exporter": "python",
   "pygments_lexer": "ipython3",
   "version": "3.6.8"
  },
  "toc": {
   "base_numbering": 1,
   "nav_menu": {},
   "number_sections": true,
   "sideBar": true,
   "skip_h1_title": false,
   "title_cell": "Table of Contents",
   "title_sidebar": "Contents",
   "toc_cell": false,
   "toc_position": {},
   "toc_section_display": true,
   "toc_window_display": false
  }
 },
 "nbformat": 4,
 "nbformat_minor": 2
}
