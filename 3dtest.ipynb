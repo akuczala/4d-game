{
 "cells": [
  {
   "cell_type": "markdown",
   "metadata": {},
   "source": [
    "# init"
   ]
  },
  {
   "cell_type": "code",
   "execution_count": 1,
   "metadata": {},
   "outputs": [
    {
     "name": "stdout",
     "output_type": "stream",
     "text": [
      "pygame 1.9.4\n",
      "Hello from the pygame community. https://www.pygame.org/contribute.html\n"
     ]
    }
   ],
   "source": [
    "import pygame\n",
    "import numpy as np\n",
    "import numpy.linalg as lin\n",
    "import sys\n",
    "import importlib\n",
    "import itertools\n",
    "import time\n",
    "\n",
    "import Clipping\n",
    "from Geometry import *\n",
    "from camera import Camera\n",
    "from draw import *"
   ]
  },
  {
   "cell_type": "markdown",
   "metadata": {},
   "source": [
    "# reload modules"
   ]
  },
  {
   "cell_type": "code",
   "execution_count": 19,
   "metadata": {},
   "outputs": [],
   "source": [
    "\n",
    "importlib.reload(Clipping)\n",
    "importlib.reload(sys.modules['Geometry'])\n",
    "importlib.reload(sys.modules['vec'])\n",
    "from Geometry import *\n",
    "\n",
    "importlib.reload(sys.modules['camera'])\n",
    "from camera import Camera\n",
    "\n",
    "importlib.reload(sys.modules['draw'])\n",
    "from draw import *\n",
    "\n",
    "\n"
   ]
  },
  {
   "cell_type": "markdown",
   "metadata": {
    "heading_collapsed": true
   },
   "source": [
    "# some out of date crap still being used"
   ]
  },
  {
   "cell_type": "code",
   "execution_count": 10,
   "metadata": {
    "hidden": true
   },
   "outputs": [],
   "source": [
    "def vert_list_to_lines(verts,cycle=True):\n",
    "    cycle_edges = np.stack((verts,np.roll(verts,1,axis=0))).transpose([1,0,2])\n",
    "    if cycle and len(verts) > 2:\n",
    "        return cycle_edges\n",
    "    else:\n",
    "        return cycle_edges[:-1]\n",
    "    \n",
    "square = np.array([[1,1,0],[-1,1,0],[-1,-1,0],[1,-1,0]])\n",
    "square1 = square + np.array([0,0,-1])\n",
    "square2 = square + np.array([0,0,1])\n",
    "connect = np.array([[[1,1,-1],[1,1,1]],[[-1,1,1],[-1,1,-1]],[[-1,-1,-1],[-1,-1,1]],[[1,-1,-1],[1,-1,1]]])\n",
    "cube_lines_test = 2*np.concatenate((np.concatenate(list(map(vert_list_to_lines,[square1,square2]))),connect))"
   ]
  },
  {
   "cell_type": "markdown",
   "metadata": {},
   "source": [
    "# build shapes"
   ]
  },
  {
   "cell_type": "code",
   "execution_count": 20,
   "metadata": {},
   "outputs": [],
   "source": [
    "from colors import *\n",
    "    \n",
    "d = 3 #set dimensionality\n",
    "cube_face_colors = [RED,YELLOW,GREEN,CYAN,MAGENTA, WHITE]\n",
    "tess_face_colors = cube_face_colors + [ORANGE,PURPLE]\n",
    "\n",
    "cube_shape = build_cube(d)\n",
    "\n",
    "\n",
    "if d == 4:\n",
    "    for face, color in zip(cube_shape.faces,tess_face_colors):\n",
    "        face.color = color\n",
    "    shapes = []\n",
    "    for i in range(4):\n",
    "        cube = cube_shape.copy()\n",
    "        cube.update(pos = 2*np.eye(d)[i])\n",
    "        shapes.append(cube)\n",
    "        cube = cube_shape.copy()\n",
    "        cube.update(pos = -2*np.eye(d)[i])\n",
    "        shapes.append(cube)\n",
    "    \n",
    "    shapes = [cube_shape]\n",
    "    cube_shape.transparent = True\n",
    "if d == 3:\n",
    "    for face, color in zip(cube_shape.faces,cube_face_colors):\n",
    "        face.color = color\n",
    "    cube1 = cube_shape.copy()\n",
    "    cube1.update(pos=np.array([2,0,0]))\n",
    "\n",
    "    cube2 = cube_shape.copy()\n",
    "    cube2.update(pos=np.array([-2,0,0]))\n",
    "\n",
    "    cube3 = cube_shape.copy()\n",
    "    cube3.update(pos=np.array([0,0,2]))\n",
    "\n",
    "    cube4 = cube_shape.copy()\n",
    "    cube4.update(pos=np.array([0,0,-2]))\n",
    "\n",
    "    cube5 = cube_shape.copy()\n",
    "    cube5.update(pos=np.array([0,-2,0]))\n",
    "    \n",
    "    shapes = [cube1,cube2,cube3,cube4,cube5]\n",
    "for i,shape in enumerate(shapes):\n",
    "    shape.name = 'shape ' + str(i)\n",
    "\n",
    "shape_combinations = list(itertools.combinations(shapes,2))"
   ]
  },
  {
   "cell_type": "markdown",
   "metadata": {},
   "source": [
    "# main loop"
   ]
  },
  {
   "cell_type": "code",
   "execution_count": 21,
   "metadata": {
    "scrolled": false
   },
   "outputs": [
    {
     "name": "stdout",
     "output_type": "stream",
     "text": [
      "init GL\n"
     ]
    },
    {
     "ename": "IndexError",
     "evalue": "list index out of range",
     "output_type": "error",
     "traceback": [
      "\u001b[0;31m---------------------------------------------------------------------------\u001b[0m",
      "\u001b[0;31mIndexError\u001b[0m                                Traceback (most recent call last)",
      "\u001b[0;32m<ipython-input-21-4751cc869677>\u001b[0m in \u001b[0;36m<module>\u001b[0;34m\u001b[0m\n\u001b[1;32m     31\u001b[0m \u001b[0;34m\u001b[0m\u001b[0m\n\u001b[1;32m     32\u001b[0m     \u001b[0;32mif\u001b[0m \u001b[0mredraw\u001b[0m\u001b[0;34m:\u001b[0m\u001b[0;34m\u001b[0m\u001b[0m\n\u001b[0;32m---> 33\u001b[0;31m         \u001b[0mdraw_class\u001b[0m\u001b[0;34m.\u001b[0m\u001b[0mdraw\u001b[0m\u001b[0;34m(\u001b[0m\u001b[0mcamera\u001b[0m\u001b[0;34m,\u001b[0m\u001b[0mshapes\u001b[0m\u001b[0;34m)\u001b[0m\u001b[0;34m\u001b[0m\u001b[0m\n\u001b[0m\u001b[1;32m     34\u001b[0m         \u001b[0;32mif\u001b[0m \u001b[0md\u001b[0m \u001b[0;34m==\u001b[0m \u001b[0;36m4\u001b[0m\u001b[0;34m:\u001b[0m\u001b[0;34m\u001b[0m\u001b[0m\n\u001b[1;32m     35\u001b[0m             \u001b[0;31m#draw_class.draw_lines_3d(cube_lines_test,GREEN,draw_origin = draw_class.draw_origin + )\u001b[0m\u001b[0;34m\u001b[0m\u001b[0;34m\u001b[0m\u001b[0m\n",
      "\u001b[0;32m~/Documents/python/4d/draw.py\u001b[0m in \u001b[0;36mdraw\u001b[0;34m(self, camera, shapes)\u001b[0m\n\u001b[1;32m     64\u001b[0m                     \u001b[0mlines\u001b[0m \u001b[0;34m=\u001b[0m \u001b[0mscaled_lines\u001b[0m\u001b[0;34m\u001b[0m\u001b[0m\n\u001b[1;32m     65\u001b[0m                     \u001b[0;32mif\u001b[0m \u001b[0mcamera\u001b[0m\u001b[0;34m.\u001b[0m\u001b[0mclipping\u001b[0m\u001b[0;34m:\u001b[0m\u001b[0;34m\u001b[0m\u001b[0m\n\u001b[0;32m---> 66\u001b[0;31m                         \u001b[0mclipped_lines\u001b[0m \u001b[0;34m=\u001b[0m \u001b[0mClipping\u001b[0m\u001b[0;34m.\u001b[0m\u001b[0mclip_lines\u001b[0m\u001b[0;34m(\u001b[0m\u001b[0mlines\u001b[0m\u001b[0;34m,\u001b[0m\u001b[0mshape\u001b[0m\u001b[0;34m,\u001b[0m\u001b[0mshapes\u001b[0m\u001b[0;34m)\u001b[0m\u001b[0;34m\u001b[0m\u001b[0m\n\u001b[0m\u001b[1;32m     67\u001b[0m                         \u001b[0;31m#draw clipped line\u001b[0m\u001b[0;34m\u001b[0m\u001b[0;34m\u001b[0m\u001b[0m\n\u001b[1;32m     68\u001b[0m                         \u001b[0mself\u001b[0m\u001b[0;34m.\u001b[0m\u001b[0mdraw_lines\u001b[0m\u001b[0;34m(\u001b[0m\u001b[0mcamera\u001b[0m\u001b[0;34m,\u001b[0m\u001b[0mclipped_lines\u001b[0m\u001b[0;34m,\u001b[0m\u001b[0mcolor\u001b[0m\u001b[0;34m)\u001b[0m\u001b[0;34m\u001b[0m\u001b[0m\n",
      "\u001b[0;32m~/Documents/python/4d/Clipping.py\u001b[0m in \u001b[0;36mclip_lines\u001b[0;34m(lines, shape, clipping_shapes)\u001b[0m\n\u001b[1;32m     59\u001b[0m             \u001b[0mclipped_lines\u001b[0m \u001b[0;34m=\u001b[0m \u001b[0;34m[\u001b[0m\u001b[0;34m]\u001b[0m\u001b[0;34m\u001b[0m\u001b[0m\n\u001b[1;32m     60\u001b[0m             \u001b[0;32mfor\u001b[0m \u001b[0mline\u001b[0m \u001b[0;32min\u001b[0m \u001b[0mlines\u001b[0m\u001b[0;34m:\u001b[0m\u001b[0;34m\u001b[0m\u001b[0m\n\u001b[0;32m---> 61\u001b[0;31m                 \u001b[0mnew_lines\u001b[0m \u001b[0;34m=\u001b[0m \u001b[0mclip_line\u001b[0m\u001b[0;34m(\u001b[0m\u001b[0mline\u001b[0m\u001b[0;34m,\u001b[0m\u001b[0mclipping_shape\u001b[0m\u001b[0;34m.\u001b[0m\u001b[0mboundaries\u001b[0m\u001b[0;34m)\u001b[0m\u001b[0;34m\u001b[0m\u001b[0m\n\u001b[0m\u001b[1;32m     62\u001b[0m                 \u001b[0;32mif\u001b[0m \u001b[0mnew_lines\u001b[0m \u001b[0;32mis\u001b[0m \u001b[0;32mnot\u001b[0m \u001b[0;32mNone\u001b[0m\u001b[0;34m:\u001b[0m\u001b[0;34m\u001b[0m\u001b[0m\n\u001b[1;32m     63\u001b[0m                     \u001b[0;31m#clipped_lines = np.concatenate((clipped_lines,new_lines))\u001b[0m\u001b[0;34m\u001b[0m\u001b[0;34m\u001b[0m\u001b[0m\n",
      "\u001b[0;32m~/Documents/python/4d/Clipping.py\u001b[0m in \u001b[0;36mclip_line\u001b[0;34m(line, boundaries)\u001b[0m\n\u001b[1;32m     70\u001b[0m \u001b[0;31m#return new, clipped line from the set of boundaries generated from a shape\u001b[0m\u001b[0;34m\u001b[0m\u001b[0;34m\u001b[0m\u001b[0m\n\u001b[1;32m     71\u001b[0m \u001b[0;32mdef\u001b[0m \u001b[0mclip_line\u001b[0m\u001b[0;34m(\u001b[0m\u001b[0mline\u001b[0m\u001b[0;34m,\u001b[0m\u001b[0mboundaries\u001b[0m\u001b[0;34m)\u001b[0m\u001b[0;34m:\u001b[0m\u001b[0;34m\u001b[0m\u001b[0m\n\u001b[0;32m---> 72\u001b[0;31m         \u001b[0mp0\u001b[0m \u001b[0;34m=\u001b[0m \u001b[0mline\u001b[0m\u001b[0;34m[\u001b[0m\u001b[0;36m0\u001b[0m\u001b[0;34m]\u001b[0m\u001b[0;34m;\u001b[0m \u001b[0mp1\u001b[0m \u001b[0;34m=\u001b[0m \u001b[0mline\u001b[0m\u001b[0;34m[\u001b[0m\u001b[0;36m1\u001b[0m\u001b[0;34m]\u001b[0m\u001b[0;34m\u001b[0m\u001b[0m\n\u001b[0m\u001b[1;32m     73\u001b[0m \u001b[0;34m\u001b[0m\u001b[0m\n\u001b[1;32m     74\u001b[0m         \u001b[0ma\u001b[0m \u001b[0;34m=\u001b[0m \u001b[0;36m0.\u001b[0m\u001b[0;34m;\u001b[0m \u001b[0mb\u001b[0m\u001b[0;34m=\u001b[0m \u001b[0;36m1.\u001b[0m\u001b[0;34m\u001b[0m\u001b[0m\n",
      "\u001b[0;31mIndexError\u001b[0m: list index out of range"
     ]
    }
   ],
   "source": [
    "\n",
    "t = 0\n",
    "size = width, height = 1100, 700\n",
    "\n",
    "pygame.init()\n",
    "\n",
    "if d == 3:\n",
    "    draw_class = DrawOpenGL2D(pygame,size,draw_origin=np.zeros([d-1]))\n",
    "    camera = Camera(pos = np.array([0.8,2,0.8]),draw_class = draw_class)\n",
    "    camera.update_rot_matrix(0,-1,-3*np.pi/4)\n",
    "    camera.update_rot_matrix(1,-1,-np.pi/4)\n",
    "if d == 4:\n",
    "    draw_class = DrawOpenGL3D(pygame,size,\n",
    "                              draw_origin=np.array([0.0,0.0,-15.0]),\n",
    "                              focal=4)\n",
    "    draw_class.view_radius = 4\n",
    "    #draw_class.stereo_view_angles = [[-30,0],[0,0]]\n",
    "    camera = Camera(pos = np.array([0,0,0,0]),draw_class = draw_class)\n",
    "    #camera.look_at(np.array([2,2,2,2]))\n",
    "    #camera = Camera(pos = np.array([0.8,2,0.8,0.8]),draw_class = draw_class)\n",
    "    #camera.update_rot_matrix(0,-1,-3*np.pi/4)\n",
    "    #camera.update_rot_matrix(2,-1,-np.pi/4)\n",
    "    #camera.update_rot_matrix(1,-1,-np.pi/4)\n",
    "#camera.update_rot_matrix(2,3,-np.pi/4)\n",
    "camera.clipping = True\n",
    "quit = False\n",
    "redraw = True\n",
    "timer = time.time()\n",
    "i = 0\n",
    "while not quit:\n",
    "    \n",
    "    if redraw:\n",
    "        draw_class.draw(camera,shapes)\n",
    "        if d == 4:\n",
    "            #draw_class.draw_lines_3d(cube_lines_test,GREEN,draw_origin = draw_class.draw_origin + )\n",
    "            #draw_class.draw_lines_3d(cube_lines_test,GREEN)\n",
    "\n",
    "            True\n",
    "        pygame.display.flip()\n",
    "        redraw = False\n",
    "    \n",
    "    events = pygame.event.get()\n",
    "    \n",
    "    redraw = camera.update(draw_class,events) #this is here so that we draw on the first frame\n",
    "    \n",
    "    for event in events:\n",
    "        if event.type == pygame.QUIT:\n",
    "            quit = True\n",
    "        if event.type == pygame.KEYUP:\n",
    "            if event.key == pygame.K_t:\n",
    "                shapes[0].transparent = not shapes[0].transparent\n",
    "                redraw = True\n",
    "                print('transparency',shapes[0].transparent)\n",
    "    keys = pygame.key.get_pressed()\n",
    "    if keys[pygame.K_ESCAPE]:\n",
    "        quit = True\n",
    "    \n",
    "    i = i+1\n",
    "    if i > 30 and True:\n",
    "        #print('redraw:',redraw)\n",
    "        fps = 30/(time.time() - timer)\n",
    "        if fps < 60:\n",
    "            print(fps,'fps')\n",
    "        timer = time.time()\n",
    "        i = 0\n",
    "pygame.quit()\n",
    "print('game terminated')"
   ]
  },
  {
   "cell_type": "code",
   "execution_count": 23,
   "metadata": {},
   "outputs": [
    {
     "data": {
      "text/plain": [
       "<Geometry.ConvexShape at 0x7f998fc6cc88>"
      ]
     },
     "execution_count": 23,
     "metadata": {},
     "output_type": "execute_result"
    }
   ],
   "source": [
    "shapes[0]"
   ]
  },
  {
   "cell_type": "code",
   "execution_count": 22,
   "metadata": {},
   "outputs": [],
   "source": [
    "pygame.quit()"
   ]
  },
  {
   "cell_type": "code",
   "execution_count": 17,
   "metadata": {},
   "outputs": [
    {
     "data": {
      "text/plain": [
       "[array([-1., -1., -1., -3.]), array([ 0., -1., -1., -3.])]"
      ]
     },
     "execution_count": 17,
     "metadata": {},
     "output_type": "execute_result"
    }
   ],
   "source": [
    "[cube.verts[vi] for vi in cube.edges[3]]"
   ]
  },
  {
   "cell_type": "code",
   "execution_count": 263,
   "metadata": {},
   "outputs": [
    {
     "name": "stdout",
     "output_type": "stream",
     "text": [
      "[[ 0 -1  0]\n",
      " [-1  1  0]]\n"
     ]
    },
    {
     "data": {
      "text/plain": [
       "array([[ 0,  0],\n",
       "       [-1,  0]])"
      ]
     },
     "execution_count": 263,
     "metadata": {},
     "output_type": "execute_result"
    }
   ],
   "source": [
    "#test minor extraction\n",
    "verts = np.array([[1,0,0],[0,1,0],[1,1,0]])\n",
    "dvs = verts - np.roll(verts,1,axis=0)\n",
    "print(dvs[:-1])\n",
    "dvs[:2][:,[0,2]]"
   ]
  },
  {
   "cell_type": "code",
   "execution_count": 5,
   "metadata": {},
   "outputs": [
    {
     "data": {
      "text/plain": [
       "True"
      ]
     },
     "execution_count": 5,
     "metadata": {},
     "output_type": "execute_result"
    }
   ],
   "source": [
    "False ^ True"
   ]
  },
  {
   "cell_type": "code",
   "execution_count": null,
   "metadata": {},
   "outputs": [],
   "source": []
  }
 ],
 "metadata": {
  "kernelspec": {
   "display_name": "Python 3",
   "language": "python",
   "name": "python3"
  },
  "language_info": {
   "codemirror_mode": {
    "name": "ipython",
    "version": 3
   },
   "file_extension": ".py",
   "mimetype": "text/x-python",
   "name": "python",
   "nbconvert_exporter": "python",
   "pygments_lexer": "ipython3",
   "version": "3.7.0"
  },
  "toc": {
   "base_numbering": 1,
   "nav_menu": {},
   "number_sections": true,
   "sideBar": true,
   "skip_h1_title": false,
   "title_cell": "Table of Contents",
   "title_sidebar": "Contents",
   "toc_cell": false,
   "toc_position": {},
   "toc_section_display": true,
   "toc_window_display": false
  }
 },
 "nbformat": 4,
 "nbformat_minor": 2
}
