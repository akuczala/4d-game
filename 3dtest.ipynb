{
 "cells": [
  {
   "cell_type": "markdown",
   "metadata": {
    "run_control": {
     "frozen": false,
     "read_only": false
    }
   },
   "source": [
    "# init"
   ]
  },
  {
   "cell_type": "code",
   "execution_count": 2,
   "metadata": {
    "run_control": {
     "frozen": false,
     "read_only": false
    }
   },
   "outputs": [],
   "source": [
    "import pygame\n",
    "import numpy as np\n",
    "import numpy.linalg as lin\n",
    "import sys\n",
    "import importlib\n",
    "import itertools\n",
    "import time\n",
    "\n",
    "import Clipping\n",
    "\n",
    "from Geometry import *\n",
    "from camera import Camera\n",
    "import draw\n",
    "from inputs import input_update"
   ]
  },
  {
   "cell_type": "markdown",
   "metadata": {
    "run_control": {
     "frozen": false,
     "read_only": false
    }
   },
   "source": [
    "# reload modules"
   ]
  },
  {
   "cell_type": "code",
   "execution_count": 56,
   "metadata": {
    "run_control": {
     "frozen": false,
     "read_only": false
    }
   },
   "outputs": [],
   "source": [
    "\n",
    "importlib.reload(Clipping)\n",
    "importlib.reload(sys.modules['Geometry'])\n",
    "importlib.reload(sys.modules['vec'])\n",
    "importlib.reload(sys.modules['util'])\n",
    "importlib.reload(sys.modules['opengl_draw_2d'])\n",
    "importlib.reload(sys.modules['opengl_draw_3d'])\n",
    "from Geometry import *\n",
    "\n",
    "importlib.reload(sys.modules['camera'])\n",
    "from camera import Camera\n",
    "importlib.reload(sys.modules['inputs'])\n",
    "from inputs import input_update\n",
    "\n",
    "importlib.reload(sys.modules['draw'])\n",
    "import draw\n",
    "\n"
   ]
  },
  {
   "cell_type": "markdown",
   "metadata": {
    "run_control": {
     "frozen": false,
     "read_only": false
    }
   },
   "source": [
    "# build shapes"
   ]
  },
  {
   "cell_type": "code",
   "execution_count": 48,
   "metadata": {
    "run_control": {
     "frozen": false,
     "read_only": false
    }
   },
   "outputs": [],
   "source": [
    "from colors import *\n",
    "    \n",
    "d = 4 #set dimensionality\n",
    "cube_face_colors = [RED,YELLOW,GREEN,CYAN,MAGENTA, WHITE]\n",
    "tess_face_colors = cube_face_colors + [ORANGE,PURPLE]\n",
    "\n",
    "cube_shape = build_cube(d)\n",
    "\n",
    "\n",
    "if d == 4:\n",
    "    for face, color in zip(cube_shape.faces,tess_face_colors):\n",
    "        face.color = color\n",
    "    shapes = []\n",
    "    for i in range(4):\n",
    "        cube = cube_shape.copy()\n",
    "        cube.update(pos = 2*np.eye(d)[i])\n",
    "        shapes.append(cube)\n",
    "        cube = cube_shape.copy()\n",
    "        cube.update(pos = -2*np.eye(d)[i])\n",
    "        shapes.append(cube)\n",
    "    shapes = [shapes[0]]\n",
    "    #shapes = [cube_shape] #single cube\n",
    "    #cube_shape.transparent = True\n",
    "if d == 3:\n",
    "    for face, color in zip(cube_shape.faces,cube_face_colors):\n",
    "        face.color = color\n",
    "    cube1 = cube_shape.copy()\n",
    "    cube1.update(pos=np.array([2,0,0]))\n",
    "\n",
    "    cube2 = cube_shape.copy()\n",
    "    cube2.update(pos=np.array([-2,0,0]))\n",
    "\n",
    "    cube3 = cube_shape.copy()\n",
    "    cube3.update(pos=np.array([0,0,2]))\n",
    "\n",
    "    cube4 = cube_shape.copy()\n",
    "    cube4.update(pos=np.array([0,0,-2]))\n",
    "\n",
    "    cube5 = cube_shape.copy()\n",
    "    cube5.update(pos=np.array([0,-2,0]))\n",
    "    \n",
    "    shapes = [cube1,cube2,cube3,cube4,cube5]\n",
    "\n",
    "    shapes[0].transparent = True\n",
    "for i,shape in enumerate(shapes):\n",
    "    shape.name = 'shape ' + str(i)\n",
    "\n",
    "shape_combinations = list(itertools.combinations(shapes,2))"
   ]
  },
  {
   "cell_type": "markdown",
   "metadata": {
    "run_control": {
     "frozen": false,
     "read_only": false
    }
   },
   "source": [
    "# main loop"
   ]
  },
  {
   "cell_type": "markdown",
   "metadata": {},
   "source": [
    "Would like draw.py to have clearer distinctions between the various spaces. The layers are\n",
    "1. The d-dim local spaces that shape.verts_ref, ref_frame, and face.normal_ref etc live in\n",
    "2. The d-dim world space that rotated, scaled and positioned shapes (and faces) and cameras live\n",
    "3. The d-dim space rotated and translated wrt to a camera\n",
    "4. The (d-1)-dim space that shapes are projected on to\n",
    "5. The (d-1)-dim graphics backend (openGL)\n",
    "\n",
    "It would be nice if we could organize code according to these layers.\n",
    "\n",
    "Clipping happens in 2"
   ]
  },
  {
   "cell_type": "code",
   "execution_count": 101,
   "metadata": {
    "collapsed": true
   },
   "outputs": [],
   "source": [
    "import colors\n",
    "import vec\n",
    "def test_points(camera):\n",
    "    points = [ vec.Vec([np.cos(th),np.sin(th),0]) for th in np.linspace(0,2*np.pi,200)]\n",
    "    draw.draw_points(camera,points,colors.GREEN)"
   ]
  },
  {
   "cell_type": "code",
   "execution_count": 57,
   "metadata": {
    "run_control": {
     "frozen": false,
     "read_only": false
    },
    "scrolled": true
   },
   "outputs": [
    {
     "name": "stdout",
     "output_type": "stream",
     "text": [
      "init GL\n",
      "10.122736960999362 fps\n",
      "10.70512007525107 fps\n",
      "10.216981621228864 fps\n",
      "10.398451383614884 fps\n",
      "10.74696999060809 fps\n",
      "10.231948003158323 fps\n",
      "10.083105582980231 fps\n",
      "10.848885767753934 fps\n",
      "10.442284047619358 fps\n",
      "10.092030252584955 fps\n",
      "10.57149240075824 fps\n",
      "10.612350874545776 fps\n",
      "10.238662079592464 fps\n",
      "10.617544235122875 fps\n",
      "10.720594625266461 fps\n",
      "10.310791997183976 fps\n",
      "10.334251264585129 fps\n",
      "10.929905400179214 fps\n",
      "10.134810806183404 fps\n",
      "10.15981030489564 fps\n",
      "10.788628682614833 fps\n",
      "10.491129550851936 fps\n",
      "10.274265468458621 fps\n",
      "10.6480053515423 fps\n",
      "10.562012932457373 fps\n",
      "10.115993927673715 fps\n",
      "10.643991398956834 fps\n",
      "10.741556746983477 fps\n",
      "10.164150546476495 fps\n",
      "10.572137971363988 fps\n",
      "10.848112856964665 fps\n",
      "10.153837108861962 fps\n",
      "10.437981382836895 fps\n",
      "10.768996854777063 fps\n",
      "10.416039495633159 fps\n",
      "9.896023780823443 fps\n",
      "10.758000995184037 fps\n",
      "10.643572736766803 fps\n",
      "10.062158691477258 fps\n",
      "10.479307740519765 fps\n",
      "10.745678423466522 fps\n",
      "12.996859073293493 fps\n",
      "12.902782397102255 fps\n",
      "13.004294489094974 fps\n",
      "13.860689349126393 fps\n",
      "transparency True\n",
      "5.366104042348837 fps\n",
      "4.712721245326666 fps\n",
      "4.725637157085176 fps\n",
      "4.683865876936714 fps\n",
      "transparency False\n",
      "7.4259144331325455 fps\n",
      "13.486349035541917 fps\n",
      "13.40990215594634 fps\n",
      "13.191314477838839 fps\n",
      "13.169476074534405 fps\n",
      "13.90365439340659 fps\n",
      "13.119988952193909 fps\n",
      "13.09511581500081 fps\n",
      "13.813282264559193 fps\n",
      "11.274923779222835 fps\n",
      "9.856186247269418 fps\n",
      "10.172260615691636 fps\n",
      "10.211065324333228 fps\n",
      "9.728451152171962 fps\n",
      "9.832523978812612 fps\n",
      "10.37548343322402 fps\n",
      "9.777705044757615 fps\n",
      "9.686959961966311 fps\n",
      "10.298724135354671 fps\n",
      "9.8874307779729 fps\n",
      "9.856004436525435 fps\n",
      "10.200005628043964 fps\n",
      "10.082093385097316 fps\n",
      "9.837303404518053 fps\n",
      "9.910230780117747 fps\n",
      "10.438173114355447 fps\n",
      "9.915315771289581 fps\n",
      "9.462457476884643 fps\n",
      "10.349503853434369 fps\n",
      "9.995054013113572 fps\n",
      "9.88517972742308 fps\n",
      "10.186297408056577 fps\n",
      "9.90069571305454 fps\n",
      "9.670609794506367 fps\n",
      "10.160157200293684 fps\n",
      "10.426955693799718 fps\n",
      "9.900451495375581 fps\n",
      "9.862057590100848 fps\n",
      "10.442418988616769 fps\n",
      "game terminated\n"
     ]
    }
   ],
   "source": [
    "\n",
    "t = 0\n",
    "#size = width, height = 1100, 700\n",
    "size = width, height = 1600, 900\n",
    "\n",
    "pygame.init()\n",
    "\n",
    "if d == 3:\n",
    "    draw.init(d,size,focal=6)\n",
    "    draw.view_radius = 7\n",
    "\n",
    "    camera = Camera(pos = Point([0.8,2,0.8]))\n",
    "    camera.update_rot_matrix(0,-1,-3*np.pi/4)\n",
    "    camera.update_rot_matrix(1,-1,-np.pi/4)\n",
    "\n",
    "if d == 4:\n",
    "    draw.init(d,size,stereo=False,n_fuzz_points = 600)\n",
    "    if draw.stereo:\n",
    "        draw.view_radius = 4\n",
    "    else:\n",
    "        draw.view_radius = 6\n",
    "    #draw.face_scales = [0.95,0.5]\n",
    "    #draw_class.stereo_view_angles = [[-30,0],[0,0]]\n",
    "    #camera = Camera(pos = Point([0,0,0,0]))\n",
    "    camera.look_at(shapes[0].pos)\n",
    "    #camera = Camera(pos = np.array([0.8,2,0.8,0.8]),draw_class = draw_class)\n",
    "    #camera.update_rot_matrix(0,-1,-3*np.pi/4)\n",
    "    #camera.update_rot_matrix(2,-1,-np.pi/4)\n",
    "    #camera.update_rot_matrix(1,-1,-np.pi/4)\n",
    "#camera.update_rot_matrix(2,3,-np.pi/4)\n",
    "draw.clipping = True\n",
    "quit = False\n",
    "redraw = True\n",
    "timer = time.time()\n",
    "frame = 0\n",
    "try:\n",
    "    while not quit:\n",
    "\n",
    "        if redraw:\n",
    "            draw.draw(camera,shapes)\n",
    "            #test_points(camera)\n",
    "            pygame.display.flip()\n",
    "            redraw = False\n",
    "            \n",
    "        #this is here so that we draw on the first frame\n",
    "        redraw, quit = input_update(camera, draw, shapes)\n",
    "        shapes[0].update(angles=[0,time.time()])\n",
    "        redraw = True #redraw every loop. useful for assessing framerate\n",
    "\n",
    "\n",
    "        delta_t = (time.time() - timer)\n",
    "        if delta_t > 2:\n",
    "        #if False:\n",
    "            #print('redraw:',redraw)\n",
    "            try:\n",
    "                #fps = 30/(time.time() - timer)\n",
    "                fps = frame/delta_t\n",
    "            except:\n",
    "                fps = 0\n",
    "            #if fps < 60:\n",
    "            print(fps,'fps')\n",
    "            timer = time.time()\n",
    "            frame = 0\n",
    "        frame = frame+1\n",
    "except:\n",
    "    pygame.quit()\n",
    "    print('game terminated')\n",
    "    raise\n",
    "pygame.quit()\n",
    "print('game terminated')"
   ]
  },
  {
   "cell_type": "code",
   "execution_count": 24,
   "metadata": {
    "collapsed": true,
    "run_control": {
     "frozen": false,
     "read_only": false
    }
   },
   "outputs": [],
   "source": [
    "pygame.quit()"
   ]
  },
  {
   "cell_type": "code",
   "execution_count": 44,
   "metadata": {},
   "outputs": [
    {
     "data": {
      "text/plain": [
       "[array([0., 0., 0., 0.]),\n",
       " array([0., 0., 0., 1.]),\n",
       " array([0., 0., 1., 0.]),\n",
       " array([0., 0., 1., 1.]),\n",
       " array([0., 1., 0., 0.]),\n",
       " array([0., 1., 0., 1.]),\n",
       " array([0., 1., 1., 0.]),\n",
       " array([0., 1., 1., 1.]),\n",
       " array([1., 0., 0., 0.]),\n",
       " array([1., 0., 0., 1.]),\n",
       " array([1., 0., 1., 0.]),\n",
       " array([1., 0., 1., 1.]),\n",
       " array([1., 1., 0., 0.]),\n",
       " array([1., 1., 0., 1.]),\n",
       " array([1., 1., 1., 0.]),\n",
       " array([1., 1., 1., 1.]),\n",
       " array([0., 0., 0., 0.]),\n",
       " array([0., 0., 0., 1.]),\n",
       " array([0., 0., 1., 0.]),\n",
       " array([0., 0., 1., 1.]),\n",
       " array([0., 1., 0., 0.]),\n",
       " array([0., 1., 0., 1.]),\n",
       " array([0., 1., 1., 0.]),\n",
       " array([0., 1., 1., 1.]),\n",
       " array([1., 0., 0., 0.]),\n",
       " array([1., 0., 0., 1.]),\n",
       " array([1., 0., 1., 0.]),\n",
       " array([1., 0., 1., 1.]),\n",
       " array([1., 1., 0., 0.]),\n",
       " array([1., 1., 0., 1.]),\n",
       " array([1., 1., 1., 0.]),\n",
       " array([1., 1., 1., 1.])]"
      ]
     },
     "execution_count": 44,
     "metadata": {},
     "output_type": "execute_result"
    }
   ],
   "source": [
    "[v + vec.Vec([1,1,1,1]) for v in shapes[0].verts_ref]"
   ]
  },
  {
   "cell_type": "code",
   "execution_count": 51,
   "metadata": {},
   "outputs": [
    {
     "data": {
      "text/plain": [
       "array([[-0.5, -0.5, -0.5, -0.5],\n",
       "       [-0.5, -0.5, -0.5,  0.5],\n",
       "       [-0.5, -0.5,  0.5, -0.5],\n",
       "       [-0.5, -0.5,  0.5,  0.5],\n",
       "       [-0.5,  0.5, -0.5, -0.5],\n",
       "       [-0.5,  0.5, -0.5,  0.5],\n",
       "       [-0.5,  0.5,  0.5, -0.5],\n",
       "       [-0.5,  0.5,  0.5,  0.5],\n",
       "       [ 0.5, -0.5, -0.5, -0.5],\n",
       "       [ 0.5, -0.5, -0.5,  0.5],\n",
       "       [ 0.5, -0.5,  0.5, -0.5],\n",
       "       [ 0.5, -0.5,  0.5,  0.5],\n",
       "       [ 0.5,  0.5, -0.5, -0.5],\n",
       "       [ 0.5,  0.5, -0.5,  0.5],\n",
       "       [ 0.5,  0.5,  0.5, -0.5],\n",
       "       [ 0.5,  0.5,  0.5,  0.5],\n",
       "       [-0.5, -0.5, -0.5, -0.5],\n",
       "       [-0.5, -0.5, -0.5,  0.5],\n",
       "       [-0.5, -0.5,  0.5, -0.5],\n",
       "       [-0.5, -0.5,  0.5,  0.5],\n",
       "       [-0.5,  0.5, -0.5, -0.5],\n",
       "       [-0.5,  0.5, -0.5,  0.5],\n",
       "       [-0.5,  0.5,  0.5, -0.5],\n",
       "       [-0.5,  0.5,  0.5,  0.5],\n",
       "       [ 0.5, -0.5, -0.5, -0.5],\n",
       "       [ 0.5, -0.5, -0.5,  0.5],\n",
       "       [ 0.5, -0.5,  0.5, -0.5],\n",
       "       [ 0.5, -0.5,  0.5,  0.5],\n",
       "       [ 0.5,  0.5, -0.5, -0.5],\n",
       "       [ 0.5,  0.5, -0.5,  0.5],\n",
       "       [ 0.5,  0.5,  0.5, -0.5],\n",
       "       [ 0.5,  0.5,  0.5,  0.5]])"
      ]
     },
     "execution_count": 51,
     "metadata": {},
     "output_type": "execute_result"
    }
   ],
   "source": [
    "shapes[0].verts_ref"
   ]
  },
  {
   "cell_type": "code",
   "execution_count": null,
   "metadata": {
    "collapsed": true
   },
   "outputs": [],
   "source": []
  }
 ],
 "metadata": {
  "kernelspec": {
   "display_name": "Python 3",
   "language": "python",
   "name": "python3"
  },
  "language_info": {
   "codemirror_mode": {
    "name": "ipython",
    "version": 3
   },
   "file_extension": ".py",
   "mimetype": "text/x-python",
   "name": "python",
   "nbconvert_exporter": "python",
   "pygments_lexer": "ipython3",
   "version": "3.6.8"
  },
  "toc": {
   "base_numbering": 1,
   "nav_menu": {},
   "number_sections": true,
   "sideBar": true,
   "skip_h1_title": false,
   "title_cell": "Table of Contents",
   "title_sidebar": "Contents",
   "toc_cell": false,
   "toc_position": {},
   "toc_section_display": true,
   "toc_window_display": false
  }
 },
 "nbformat": 4,
 "nbformat_minor": 2
}
