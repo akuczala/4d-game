{
 "cells": [
  {
   "cell_type": "code",
   "execution_count": 1,
   "metadata": {},
   "outputs": [
    {
     "name": "stdout",
     "output_type": "stream",
     "text": [
      "pygame 1.9.4\n",
      "Hello from the pygame community. https://www.pygame.org/contribute.html\n"
     ]
    }
   ],
   "source": [
    "import pygame\n",
    "import numpy as np\n",
    "import numpy.linalg as lin\n",
    "import sys\n",
    "import importlib\n",
    "import itertools\n",
    "import time\n",
    "\n",
    "import Clipping\n",
    "from Geometry import *\n",
    "from camera import Camera\n",
    "from draw import *"
   ]
  },
  {
   "cell_type": "code",
   "execution_count": 2,
   "metadata": {},
   "outputs": [],
   "source": [
    "\n",
    "importlib.reload(Clipping)\n",
    "importlib.reload(sys.modules['Geometry'])\n",
    "from Geometry import *\n",
    "\n",
    "importlib.reload(sys.modules['camera'])\n",
    "from camera import Camera\n",
    "\n",
    "importlib.reload(sys.modules['draw'])\n",
    "from draw import *\n",
    "\n",
    "\n"
   ]
  },
  {
   "cell_type": "code",
   "execution_count": 3,
   "metadata": {},
   "outputs": [],
   "source": [
    "def vert_list_to_lines(verts,cycle=True):\n",
    "    cycle_edges = np.stack((verts,np.roll(verts,1,axis=0))).transpose([1,0,2])\n",
    "    if cycle and len(verts) > 2:\n",
    "        return cycle_edges\n",
    "    else:\n",
    "        return cycle_edges[:-1]\n",
    "    \n",
    "square = np.array([[1,1,0],[-1,1,0],[-1,-1,0],[1,-1,0]])\n",
    "square1 = square + np.array([0,0,-1])\n",
    "square2 = square + np.array([0,0,1])\n",
    "connect = np.array([[[1,1,-1],[1,1,1]],[[-1,1,1],[-1,1,-1]],[[-1,-1,-1],[-1,-1,1]],[[1,-1,-1],[1,-1,1]]])\n",
    "cube_lines_test = 2*np.concatenate((np.concatenate(list(map(vert_list_to_lines,[square1,square2]))),connect))"
   ]
  },
  {
   "cell_type": "code",
   "execution_count": 6,
   "metadata": {},
   "outputs": [],
   "source": [
    "from colors import *\n",
    "    \n",
    "d = 4\n",
    "cube_face_colors = [RED,YELLOW,GREEN,CYAN,MAGENTA, WHITE]\n",
    "tess_face_colors = cube_face_colors + [ORANGE,PURPLE]\n",
    "\n",
    "cube_shape = build_cube(d)\n",
    "\n",
    "\n",
    "if d == 4:\n",
    "    for face, color in zip(cube_shape.faces,tess_face_colors):\n",
    "        face.color = color\n",
    "    shapes = []\n",
    "    for i in range(4):\n",
    "        cube = cube_shape.copy()\n",
    "        cube.update(pos = 2*np.eye(d)[i])\n",
    "        shapes.append(cube)\n",
    "        cube = cube_shape.copy()\n",
    "        cube.update(pos = -2*np.eye(d)[i])\n",
    "        shapes.append(cube)\n",
    "    \n",
    "    shapes = [cube_shape]\n",
    "    cube_shape.transparent = True\n",
    "if d == 3:\n",
    "    for face, color in zip(cube_shape.faces,cube_face_colors):\n",
    "        face.color = color\n",
    "    cube1 = cube_shape.copy()\n",
    "    cube1.update(pos=np.array([2,0,0]))\n",
    "\n",
    "    cube2 = cube_shape.copy()\n",
    "    cube2.update(pos=np.array([-2,0,0]))\n",
    "\n",
    "    cube3 = cube_shape.copy()\n",
    "    cube3.update(pos=np.array([0,0,2]))\n",
    "\n",
    "    cube4 = cube_shape.copy()\n",
    "    cube4.update(pos=np.array([0,0,-2]))\n",
    "\n",
    "    cube5 = cube_shape.copy()\n",
    "    cube5.update(pos=np.array([0,-2,0]))\n",
    "    \n",
    "    shapes = [cube1,cube2,cube3,cube4,cube5]\n",
    "for i,shape in enumerate(shapes):\n",
    "    shape.name = 'shape ' + str(i)\n",
    "\n",
    "shape_combinations = list(itertools.combinations(shapes,2))"
   ]
  },
  {
   "cell_type": "code",
   "execution_count": 7,
   "metadata": {
    "scrolled": true
   },
   "outputs": [
    {
     "name": "stdout",
     "output_type": "stream",
     "text": [
      "36.233508642197144 fps\n",
      "transparency False\n",
      "53.44072234456193 fps\n",
      "51.69305702708821 fps\n",
      "52.14422290350413 fps\n",
      "52.88755547074583 fps\n",
      "54.46909897013161 fps\n",
      "54.47994731648772 fps\n",
      "53.73592640992133 fps\n",
      "53.97092935476344 fps\n",
      "53.93285242191619 fps\n",
      "53.0565026399832 fps\n",
      "55.21986507177579 fps\n",
      "53.94353444727961 fps\n",
      "57.824580236934004 fps\n",
      "55.53025742777 fps\n",
      "44.87355219997133 fps\n",
      "44.48946890170386 fps\n",
      "49.42511235915335 fps\n",
      "46.068235504312135 fps\n",
      "50.93813784443093 fps\n",
      "47.23111427246947 fps\n",
      "45.02601636664022 fps\n",
      "51.77656627985876 fps\n",
      "45.57432636777359 fps\n",
      "game terminated\n"
     ]
    }
   ],
   "source": [
    "\n",
    "t = 0\n",
    "size = width, height = 1100, 700\n",
    "\n",
    "pygame.init()\n",
    "\n",
    "if d == 3:\n",
    "    draw_class = DrawOpenGL2D(pygame,size,draw_origin=np.zeros([d-1]))\n",
    "    camera = Camera(pos = np.array([0.8,2,0.8]),draw_class = draw_class)\n",
    "    camera.update_rot_matrix(0,-1,-3*np.pi/4)\n",
    "    camera.update_rot_matrix(1,-1,-np.pi/4)\n",
    "if d == 4:\n",
    "    draw_class = DrawOpenGL3D(pygame,size,\n",
    "                              draw_origin=np.array([0.0,0.0,-15.0]),\n",
    "                              focal=4)\n",
    "    draw_class.view_radius = 4\n",
    "    #draw_class.stereo_view_angles = [[-30,0],[0,0]]\n",
    "    camera = Camera(pos = np.array([0,0,0,0]),draw_class = draw_class)\n",
    "    #camera.look_at(np.array([2,2,2,2]))\n",
    "    #camera = Camera(pos = np.array([0.8,2,0.8,0.8]),draw_class = draw_class)\n",
    "    #camera.update_rot_matrix(0,-1,-3*np.pi/4)\n",
    "    #camera.update_rot_matrix(2,-1,-np.pi/4)\n",
    "    #camera.update_rot_matrix(1,-1,-np.pi/4)\n",
    "#camera.update_rot_matrix(2,3,-np.pi/4)\n",
    "camera.clipping = True\n",
    "quit = False\n",
    "redraw = True\n",
    "timer = time.time()\n",
    "i = 0\n",
    "while not quit:\n",
    "    \n",
    "    if redraw:\n",
    "        draw_class.draw(camera,shapes)\n",
    "        if d == 4:\n",
    "            #draw_class.draw_lines_3d(cube_lines_test,GREEN,draw_origin = draw_class.draw_origin + )\n",
    "            #draw_class.draw_lines_3d(cube_lines_test,GREEN)\n",
    "\n",
    "            True\n",
    "        pygame.display.flip()\n",
    "        redraw = False\n",
    "    \n",
    "    events = pygame.event.get()\n",
    "    \n",
    "    redraw = camera.update(draw_class,events) #this is here so that we draw on the first frame\n",
    "    \n",
    "    for event in events:\n",
    "        if event.type == pygame.QUIT:\n",
    "            quit = True\n",
    "        if event.type == pygame.KEYUP:\n",
    "            if event.key == pygame.K_t:\n",
    "                shapes[0].transparent = not shapes[0].transparent\n",
    "                redraw = True\n",
    "                print('transparency',shapes[0].transparent)\n",
    "    keys = pygame.key.get_pressed()\n",
    "    if keys[pygame.K_ESCAPE]:\n",
    "        quit = True\n",
    "    \n",
    "    i = i+1\n",
    "    if i > 30 and True:\n",
    "        #print('redraw:',redraw)\n",
    "        fps = 30/(time.time() - timer)\n",
    "        if fps < 60:\n",
    "            print(fps,'fps')\n",
    "        timer = time.time()\n",
    "        i = 0\n",
    "pygame.quit()\n",
    "print('game terminated')"
   ]
  },
  {
   "cell_type": "code",
   "execution_count": 237,
   "metadata": {},
   "outputs": [],
   "source": [
    "pygame.quit()"
   ]
  },
  {
   "cell_type": "code",
   "execution_count": 55,
   "metadata": {},
   "outputs": [
    {
     "data": {
      "text/plain": [
       "2"
      ]
     },
     "execution_count": 55,
     "metadata": {},
     "output_type": "execute_result"
    }
   ],
   "source": [
    "np."
   ]
  },
  {
   "cell_type": "code",
   "execution_count": 263,
   "metadata": {},
   "outputs": [
    {
     "name": "stdout",
     "output_type": "stream",
     "text": [
      "[[ 0 -1  0]\n",
      " [-1  1  0]]\n"
     ]
    },
    {
     "data": {
      "text/plain": [
       "array([[ 0,  0],\n",
       "       [-1,  0]])"
      ]
     },
     "execution_count": 263,
     "metadata": {},
     "output_type": "execute_result"
    }
   ],
   "source": [
    "#test minor extraction\n",
    "verts = np.array([[1,0,0],[0,1,0],[1,1,0]])\n",
    "dvs = verts - np.roll(verts,1,axis=0)\n",
    "print(dvs[:-1])\n",
    "dvs[:2][:,[0,2]]"
   ]
  },
  {
   "cell_type": "code",
   "execution_count": 5,
   "metadata": {},
   "outputs": [
    {
     "data": {
      "text/plain": [
       "True"
      ]
     },
     "execution_count": 5,
     "metadata": {},
     "output_type": "execute_result"
    }
   ],
   "source": [
    "False ^ True"
   ]
  },
  {
   "cell_type": "code",
   "execution_count": null,
   "metadata": {},
   "outputs": [],
   "source": []
  }
 ],
 "metadata": {
  "kernelspec": {
   "display_name": "Python 3",
   "language": "python",
   "name": "python3"
  },
  "language_info": {
   "codemirror_mode": {
    "name": "ipython",
    "version": 3
   },
   "file_extension": ".py",
   "mimetype": "text/x-python",
   "name": "python",
   "nbconvert_exporter": "python",
   "pygments_lexer": "ipython3",
   "version": "3.7.0"
  }
 },
 "nbformat": 4,
 "nbformat_minor": 2
}
