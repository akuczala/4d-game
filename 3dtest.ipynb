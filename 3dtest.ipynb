{
 "cells": [
  {
   "cell_type": "markdown",
   "metadata": {
    "run_control": {
     "frozen": false,
     "read_only": false
    }
   },
   "source": [
    "# init"
   ]
  },
  {
   "cell_type": "code",
   "execution_count": 1,
   "metadata": {
    "run_control": {
     "frozen": false,
     "read_only": false
    }
   },
   "outputs": [],
   "source": [
    "import pygame\n",
    "import numpy as np\n",
    "import numpy.linalg as lin\n",
    "import sys\n",
    "import importlib\n",
    "import itertools\n",
    "import time\n",
    "\n",
    "import Clipping\n",
    "\n",
    "import Geometry\n",
    "from Geometry import Point\n",
    "from camera import Camera\n",
    "import draw\n",
    "import vec\n",
    "from inputs import input_update"
   ]
  },
  {
   "cell_type": "markdown",
   "metadata": {
    "run_control": {
     "frozen": false,
     "read_only": false
    }
   },
   "source": [
    "# reload modules"
   ]
  },
  {
   "cell_type": "code",
   "execution_count": 11,
   "metadata": {
    "run_control": {
     "frozen": false,
     "read_only": false
    }
   },
   "outputs": [],
   "source": [
    "\n",
    "importlib.reload(sys.modules['Clipping'])\n",
    "importlib.reload(sys.modules['Geometry'])\n",
    "importlib.reload(sys.modules['vec'])\n",
    "importlib.reload(sys.modules['util'])\n",
    "importlib.reload(sys.modules['opengl_draw_2d'])\n",
    "importlib.reload(sys.modules['opengl_draw_3d'])\n",
    "import Geometry\n",
    "\n",
    "importlib.reload(sys.modules['camera'])\n",
    "from camera import Camera\n",
    "importlib.reload(sys.modules['inputs'])\n",
    "from inputs import input_update\n",
    "\n",
    "importlib.reload(sys.modules['draw'])\n",
    "import draw\n",
    "\n"
   ]
  },
  {
   "cell_type": "markdown",
   "metadata": {
    "run_control": {
     "frozen": false,
     "read_only": false
    }
   },
   "source": [
    "# build shapes"
   ]
  },
  {
   "cell_type": "code",
   "execution_count": 2,
   "metadata": {
    "run_control": {
     "frozen": false,
     "read_only": false
    }
   },
   "outputs": [],
   "source": [
    "from colors import *\n",
    "    \n",
    "d = 4 #set dimensionality\n",
    "cube_face_colors = [RED,YELLOW,GREEN,CYAN,MAGENTA, WHITE]\n",
    "tess_face_colors = cube_face_colors + [ORANGE,PURPLE]\n",
    "\n",
    "Geometry.Face.n_fuzz_points = 100\n",
    "cube_shape = Geometry.build_cube(d)\n",
    "\n",
    "#draw a pair of cubes for each axis\n",
    "for face, color in zip(cube_shape.faces,tess_face_colors):\n",
    "    face.color = color\n",
    "    #face.color = GREEN\n",
    "shapes = []\n",
    "r = 4\n",
    "for i in range(d):\n",
    "    cube = cube_shape.copy()\n",
    "    cube.update(pos = r*np.eye(d)[i])\n",
    "    shapes.append(cube)\n",
    "    cube = cube_shape.copy()\n",
    "    cube.update(pos = -r*np.eye(d)[i])\n",
    "    shapes.append(cube)\n",
    "#shapes = shapes[:2] + shapes[-4:] \n",
    "#shapes = shapes[:2] + shapes[-2:]\n",
    "#shapes.pop(2) #removes top cube\n",
    "#cube_shape.transparent = True\n",
    "shapes = [shapes[0] ]\n",
    "for i,shape in enumerate(shapes):\n",
    "    shape.name = 'shape ' + str(i)\n",
    "    \n",
    "floor_lines = Geometry.build_floor(d,1,16,-5)"
   ]
  },
  {
   "cell_type": "markdown",
   "metadata": {
    "run_control": {
     "frozen": false,
     "read_only": false
    }
   },
   "source": [
    "## other shapes"
   ]
  },
  {
   "cell_type": "code",
   "execution_count": 20,
   "metadata": {
    "run_control": {
     "frozen": false,
     "read_only": false
    }
   },
   "outputs": [
    {
     "name": "stdout",
     "output_type": "stream",
     "text": [
      "Warning: not all normals perpendicular\n"
     ]
    }
   ],
   "source": [
    "d = 3\n",
    "sphere_shape = Geometry.build_sphere_3d(r=1,phi_pts=10,theta_pts=5)\n",
    "shapes = [sphere_shape]\n",
    "#shapes.append(sphere_shape)"
   ]
  },
  {
   "cell_type": "code",
   "execution_count": 48,
   "metadata": {
    "run_control": {
     "frozen": false,
     "read_only": false
    }
   },
   "outputs": [],
   "source": []
  },
  {
   "cell_type": "code",
   "execution_count": 4,
   "metadata": {
    "run_control": {
     "frozen": false,
     "read_only": false
    }
   },
   "outputs": [
    {
     "name": "stdout",
     "output_type": "stream",
     "text": [
      "Warning: not all normals perpendicular\n"
     ]
    }
   ],
   "source": [
    "d = 4\n",
    "m = 5; n = 5\n",
    "cylinder_shape = Geometry.build_duocylinder(rs=[1,1],axes=[[0,1],[2,3]],n_circ_pts=[m,n])\n",
    "#cylinder_shape.transparent = True\n",
    "for i,face in enumerate(cylinder_shape.faces[:m]):\n",
    "    face.color = ORANGE\n",
    "    #face.color = (np.cos(2*np.pi*i/m)**2,np.sin(2*np.pi*i/m)**2,1)\n",
    "    #face.color = ((i+1)%2,(i+1)%2,i%2)\n",
    "for i,face in enumerate(cylinder_shape.faces[m:]):\n",
    "    face.color = CYAN\n",
    "    #face.color = (1,np.cos(2*np.pi*i/m)**2,np.sin(2*np.pi*i/m)**2)\n",
    "    #face.color = ((i+1)%2,i%2,(i+1)%2)\n",
    "    #face.color = ((i+1)%2,(i+1)%2,i%2)\n",
    "#shapes = [cylinder_shape]\n",
    "shapes.append(cylinder_shape)"
   ]
  },
  {
   "cell_type": "markdown",
   "metadata": {
    "heading_collapsed": true,
    "run_control": {
     "frozen": false,
     "read_only": false
    }
   },
   "source": [
    "# comments"
   ]
  },
  {
   "cell_type": "markdown",
   "metadata": {
    "hidden": true,
    "run_control": {
     "frozen": false,
     "read_only": false
    }
   },
   "source": [
    "Would like draw.py to have clearer distinctions between the various spaces. The layers are\n",
    "1. The d-dim local spaces that shape.verts_ref, ref_frame, and face.normal_ref etc live in\n",
    "2. The d-dim world space that rotated, scaled and positioned shapes (and faces) and cameras live\n",
    "3. The d-dim space rotated and translated wrt to a camera\n",
    "4. The (d-1)-dim space that shapes are projected on to\n",
    "5. The (d-1)-dim graphics backend (openGL)\n",
    "\n",
    "It would be nice if we could organize code according to these layers.\n",
    "\n",
    "Clipping happens in 2\n",
    "\n",
    "Todo: \n",
    "- fix target shape clipping\n",
    "- fix viewport clipping\n",
    "- speed up /generalize floor drawing\n",
    "- speed up clipping\n",
    "- find a way to make the center obvious wrt objects in the view. does rotation help or hurt? how can one navigate with a rotating viewport?\n",
    "- other points of reference at infinity\n",
    "- a floor and ceiling\n",
    "- implement cubinders, spherinders\n",
    "- generalize face fuzz to all convex faces, invariant to edge order"
   ]
  },
  {
   "cell_type": "markdown",
   "metadata": {
    "run_control": {
     "frozen": false,
     "read_only": false
    }
   },
   "source": [
    "# main loop"
   ]
  },
  {
   "cell_type": "code",
   "execution_count": 15,
   "metadata": {
    "run_control": {
     "frozen": false,
     "read_only": false
    },
    "scrolled": true
   },
   "outputs": [
    {
     "name": "stdout",
     "output_type": "stream",
     "text": [
      "init GL\n",
      "transparency False\n",
      "transparency True\n",
      "42.78469961584999 fps\n",
      "42.6169427061033 fps\n",
      "41.87452530050831 fps\n",
      "42.29851171616717 fps\n",
      "game terminated\n"
     ]
    }
   ],
   "source": [
    "\n",
    "\n",
    "t = 0\n",
    "#size = width, height = 1100, 700\n",
    "size = width, height = 1600, 900\n",
    "\n",
    "pygame.init()\n",
    "\n",
    "if d == 3:\n",
    "    draw.init(d,size,focal=6,n_fuzz_points = 100)\n",
    "    draw.view_radius = 7\n",
    "    draw_view_height = 7\n",
    "    draw.view_boundary = 'none'\n",
    "    camera = Camera(pos = Point([0,0,-10]))\n",
    "    camera.target_shape = Geometry.build_3d_target()\n",
    "\n",
    "    camera.look_at(vec.zero_vec(d))\n",
    "\n",
    "if d == 4:\n",
    "    draw.init(d,size,stereo=False,n_fuzz_points = 200)\n",
    "    draw.view_boundary = 'none'\n",
    "    if draw.stereo:\n",
    "        draw.view_radius = 4\n",
    "    else:\n",
    "        draw.view_radius = 6\n",
    "        draw.view_height = 4\n",
    "\n",
    "    draw.face_scales = [0.9]\n",
    "\n",
    "    camera = Camera(pos = vec.one_hot(d,-1)*(-5))\n",
    "    camera.look_at(vec.zero_vec(d))\n",
    "\n",
    "draw.clipping = True\n",
    "quit = False\n",
    "redraw = True\n",
    "timer = time.time()\n",
    "t0 = time.time()\n",
    "frame = 0\n",
    "try:\n",
    "    while not quit:\n",
    "\n",
    "        if redraw:\n",
    "            draw.draw(camera,shapes+ [camera.target_shape])\n",
    "            draw.clip_and_draw_lines(floor_lines,camera,(0.2,0.2,0.2),None,shapes)\n",
    "            #test_points(camera,shapes[0].pos)\n",
    "            #draw.draw_wireframe(camera,cylinder_shape,GRAY)\n",
    "            #draw.draw_normals(camera,shapes[0],WHITE)\n",
    "            pygame.display.flip()\n",
    "            redraw = False\n",
    "            \n",
    "        #this is here so that we draw on the first frame\n",
    "        redraw, quit = input_update(camera, shapes)\n",
    "        #camera.update_rot_matrix(0, 2, camera.ang_speed/2)\n",
    "        #sphere_shape.rotate(0,2,0.01)\n",
    "        #cylinder_shape.rotate(1,3,0.02)\n",
    "        redraw = True #redraw every loop. useful for assessing framerate\n",
    "\n",
    "\n",
    "        delta_t = (time.time() - timer)\n",
    "        if delta_t > 2:\n",
    "        #if False:\n",
    "            #print('redraw:',redraw)\n",
    "            try:\n",
    "                #fps = 30/(time.time() - timer)\n",
    "                fps = frame/delta_t\n",
    "            except:\n",
    "                fps = 0\n",
    "            #if fps < 60:\n",
    "            print(fps,'fps')\n",
    "            timer = time.time()\n",
    "            frame = 0\n",
    "        frame = frame+1\n",
    "except:\n",
    "    pygame.quit()\n",
    "    print('game terminated')\n",
    "    raise\n",
    "pygame.quit()\n",
    "print('game terminated')"
   ]
  },
  {
   "cell_type": "code",
   "execution_count": 188,
   "metadata": {
    "collapsed": true,
    "run_control": {
     "frozen": false,
     "read_only": false
    }
   },
   "outputs": [],
   "source": [
    "pygame.quit()"
   ]
  },
  {
   "cell_type": "markdown",
   "metadata": {
    "run_control": {
     "frozen": false,
     "read_only": false
    }
   },
   "source": [
    "# workspace"
   ]
  },
  {
   "cell_type": "code",
   "execution_count": 13,
   "metadata": {
    "run_control": {
     "frozen": false,
     "read_only": false
    }
   },
   "outputs": [
    {
     "name": "stdout",
     "output_type": "stream",
     "text": [
      "problem drawing [Line([ 1.23548225 -0.93094863 -0.79235395],[ 1.2592071  -0.71458568 -0.57172208]), Line([ 1.23548225 -0.93094863 -0.79235395],[ 1.23548225 -0.20223893 -0.79235395]), Line([ 1.23548225  0.70410815 -0.79235395],[ 1.23548225  0.93094863 -0.79235395]), Line([ 1.23548225 -0.93094863 -0.79235395],[ 1.01847944 -0.93094868  1.05685583]), Line([ 1.2592071  -0.71458568 -0.57172208],[ 1.2592071  -0.3505935  -0.57172208]), Line([ 1.2592071   0.66293777 -0.57172208],[ 1.2592071   0.71458568 -0.57172208]), Line([ 1.2592071  -0.71458568 -0.57172208],[ 1.09263818 -0.71458571  0.84771051]), Line([ 1.23548225  0.93094863 -0.79235395],[ 1.2592071   0.71458568 -0.57172208]), Line([ 1.23548225  0.93094863 -0.79235395],[1.01847944 0.93094868 1.05685583]), Line([ 1.2592071   0.71458568 -0.57172208],[1.09263818 0.71458571 0.84771051]), Line([ 1.01847944 -0.93094868  1.05685583],[ 1.09263818 -0.71458571  0.84771051]), Line([ 1.01847944 -0.93094868  1.05685583],[1.01847944 0.39823184 1.05685583]), Line([1.01847944 0.70410818 1.05685583],[1.01847944 0.93094868 1.05685583]), Line([ 1.09263818 -0.71458571  0.84771051],[1.09263818 0.34610011 0.84771051]), Line([1.09263818 0.6629378  0.84771051],[1.09263818 0.71458571 0.84771051]), Line([1.01847944 0.93094868 1.05685583],[1.09263818 0.71458571 0.84771051])]\n"
     ]
    },
    {
     "ename": "GLError",
     "evalue": "GLError(\n\terr = 1282,\n\tdescription = b'invalid operation',\n\tbaseOperation = glLoadIdentity,\n\tcArguments = ()\n)",
     "output_type": "error",
     "traceback": [
      "\u001b[1;31m---------------------------------------------------------------------------\u001b[0m",
      "\u001b[1;31mGLError\u001b[0m                                   Traceback (most recent call last)",
      "\u001b[1;32m<ipython-input-13-cafdca6c9c3d>\u001b[0m in \u001b[0;36m<module>\u001b[1;34m()\u001b[0m\n\u001b[1;32m----> 1\u001b[1;33m \u001b[0mdraw\u001b[0m\u001b[1;33m.\u001b[0m\u001b[0mdraw_face_lines\u001b[0m\u001b[1;33m(\u001b[0m\u001b[0mshapes\u001b[0m\u001b[1;33m[\u001b[0m\u001b[1;36m0\u001b[0m\u001b[1;33m]\u001b[0m\u001b[1;33m.\u001b[0m\u001b[0mfaces\u001b[0m\u001b[1;33m[\u001b[0m\u001b[1;36m0\u001b[0m\u001b[1;33m]\u001b[0m\u001b[1;33m,\u001b[0m\u001b[0mcamera\u001b[0m\u001b[1;33m,\u001b[0m\u001b[0mshapes\u001b[0m\u001b[1;33m[\u001b[0m\u001b[1;36m0\u001b[0m\u001b[1;33m]\u001b[0m\u001b[1;33m,\u001b[0m\u001b[0mshapes\u001b[0m\u001b[1;33m)\u001b[0m\u001b[1;33m\u001b[0m\u001b[1;33m\u001b[0m\u001b[0m\n\u001b[0m",
      "\u001b[1;32m~\\Documents\\python\\4d\\4d-game\\draw.py\u001b[0m in \u001b[0;36mdraw_face_lines\u001b[1;34m(face, camera, shape, shapes)\u001b[0m\n\u001b[0;32m    150\u001b[0m     \u001b[0mlines\u001b[0m \u001b[1;33m=\u001b[0m \u001b[0mscaled_lines\u001b[0m\u001b[1;33m\u001b[0m\u001b[1;33m\u001b[0m\u001b[0m\n\u001b[0;32m    151\u001b[0m \u001b[1;33m\u001b[0m\u001b[0m\n\u001b[1;32m--> 152\u001b[1;33m     \u001b[0mclip_and_draw_lines\u001b[0m\u001b[1;33m(\u001b[0m\u001b[0mlines\u001b[0m\u001b[1;33m,\u001b[0m\u001b[0mcamera\u001b[0m\u001b[1;33m,\u001b[0m\u001b[0mcolor\u001b[0m\u001b[1;33m,\u001b[0m\u001b[0mshape\u001b[0m\u001b[1;33m,\u001b[0m\u001b[0mshapes\u001b[0m\u001b[1;33m)\u001b[0m\u001b[1;33m\u001b[0m\u001b[1;33m\u001b[0m\u001b[0m\n\u001b[0m\u001b[0;32m    153\u001b[0m \u001b[1;33m\u001b[0m\u001b[0m\n\u001b[0;32m    154\u001b[0m \u001b[1;32mdef\u001b[0m \u001b[0mclip_and_draw_lines\u001b[0m\u001b[1;33m(\u001b[0m\u001b[0mlines\u001b[0m\u001b[1;33m,\u001b[0m\u001b[0mcamera\u001b[0m\u001b[1;33m,\u001b[0m\u001b[0mcolor\u001b[0m\u001b[1;33m,\u001b[0m\u001b[0mshape\u001b[0m\u001b[1;33m,\u001b[0m\u001b[0mshapes\u001b[0m\u001b[1;33m)\u001b[0m\u001b[1;33m:\u001b[0m\u001b[1;33m\u001b[0m\u001b[1;33m\u001b[0m\u001b[0m\n",
      "\u001b[1;32m~\\Documents\\python\\4d\\4d-game\\draw.py\u001b[0m in \u001b[0;36mclip_and_draw_lines\u001b[1;34m(lines, camera, color, shape, shapes)\u001b[0m\n\u001b[0;32m    160\u001b[0m             \u001b[0mclipped_lines\u001b[0m \u001b[1;33m=\u001b[0m \u001b[0mClipping\u001b[0m\u001b[1;33m.\u001b[0m\u001b[0mclip_lines\u001b[0m\u001b[1;33m(\u001b[0m\u001b[0mlines\u001b[0m\u001b[1;33m,\u001b[0m \u001b[0mshape\u001b[0m\u001b[1;33m,\u001b[0m \u001b[0mshapes\u001b[0m\u001b[1;33m)\u001b[0m\u001b[1;33m\u001b[0m\u001b[1;33m\u001b[0m\u001b[0m\n\u001b[0;32m    161\u001b[0m             \u001b[1;31m#draw clipped line\u001b[0m\u001b[1;33m\u001b[0m\u001b[1;33m\u001b[0m\u001b[1;33m\u001b[0m\u001b[0m\n\u001b[1;32m--> 162\u001b[1;33m             \u001b[0mdraw_lines\u001b[0m\u001b[1;33m(\u001b[0m\u001b[0mcamera\u001b[0m\u001b[1;33m,\u001b[0m \u001b[0mclipped_lines\u001b[0m\u001b[1;33m,\u001b[0m \u001b[0mcolor\u001b[0m\u001b[1;33m)\u001b[0m\u001b[1;33m\u001b[0m\u001b[1;33m\u001b[0m\u001b[0m\n\u001b[0m\u001b[0;32m    163\u001b[0m         \u001b[1;32melse\u001b[0m\u001b[1;33m:\u001b[0m  \u001b[1;31m#noclip\u001b[0m\u001b[1;33m\u001b[0m\u001b[1;33m\u001b[0m\u001b[0m\n\u001b[0;32m    164\u001b[0m             \u001b[0mdraw_lines\u001b[0m\u001b[1;33m(\u001b[0m\u001b[0mcamera\u001b[0m\u001b[1;33m,\u001b[0m \u001b[0mlines\u001b[0m\u001b[1;33m,\u001b[0m \u001b[0mcolor\u001b[0m\u001b[1;33m)\u001b[0m\u001b[1;33m\u001b[0m\u001b[1;33m\u001b[0m\u001b[0m\n",
      "\u001b[1;32m~\\Documents\\python\\4d\\4d-game\\draw.py\u001b[0m in \u001b[0;36mdraw_lines\u001b[1;34m(camera, lines, color)\u001b[0m\n\u001b[0;32m    291\u001b[0m                     \u001b[0mcolor\u001b[0m\u001b[1;33m,\u001b[0m\u001b[1;33m\u001b[0m\u001b[1;33m\u001b[0m\u001b[0m\n\u001b[0;32m    292\u001b[0m                     \u001b[0mdraw_origin\u001b[0m\u001b[1;33m=\u001b[0m\u001b[0mthis\u001b[0m\u001b[1;33m.\u001b[0m\u001b[0mdraw_origin\u001b[0m\u001b[1;33m,\u001b[0m\u001b[1;33m\u001b[0m\u001b[1;33m\u001b[0m\u001b[0m\n\u001b[1;32m--> 293\u001b[1;33m                     draw_angles=this.view_angles)\n\u001b[0m\u001b[0;32m    294\u001b[0m     \u001b[1;32mexcept\u001b[0m\u001b[1;33m:\u001b[0m\u001b[1;33m\u001b[0m\u001b[1;33m\u001b[0m\u001b[0m\n\u001b[0;32m    295\u001b[0m         \u001b[0mprint\u001b[0m\u001b[1;33m(\u001b[0m\u001b[1;34m'problem drawing'\u001b[0m\u001b[1;33m,\u001b[0m \u001b[0mview_clipped_lines\u001b[0m\u001b[1;33m)\u001b[0m\u001b[1;33m\u001b[0m\u001b[1;33m\u001b[0m\u001b[0m\n",
      "\u001b[1;32m~\\Documents\\python\\4d\\4d-game\\opengl_draw_3d.py\u001b[0m in \u001b[0;36mdraw_lines_3d\u001b[1;34m(lines, color, draw_origin, draw_angles, line_width)\u001b[0m\n\u001b[0;32m     73\u001b[0m \u001b[1;33m\u001b[0m\u001b[0m\n\u001b[0;32m     74\u001b[0m \u001b[1;32mdef\u001b[0m \u001b[0mdraw_lines_3d\u001b[0m\u001b[1;33m(\u001b[0m\u001b[0mlines\u001b[0m\u001b[1;33m,\u001b[0m \u001b[0mcolor\u001b[0m\u001b[1;33m,\u001b[0m \u001b[0mdraw_origin\u001b[0m\u001b[1;33m,\u001b[0m \u001b[0mdraw_angles\u001b[0m\u001b[1;33m,\u001b[0m \u001b[0mline_width\u001b[0m\u001b[1;33m=\u001b[0m\u001b[1;36m2\u001b[0m\u001b[1;33m)\u001b[0m\u001b[1;33m:\u001b[0m\u001b[1;33m\u001b[0m\u001b[1;33m\u001b[0m\u001b[0m\n\u001b[1;32m---> 75\u001b[1;33m     \u001b[0mgl\u001b[0m\u001b[1;33m.\u001b[0m\u001b[0mglLoadIdentity\u001b[0m\u001b[1;33m(\u001b[0m\u001b[1;33m)\u001b[0m  \u001b[1;31m# reset position\u001b[0m\u001b[1;33m\u001b[0m\u001b[1;33m\u001b[0m\u001b[0m\n\u001b[0m\u001b[0;32m     76\u001b[0m     \u001b[0mgl\u001b[0m\u001b[1;33m.\u001b[0m\u001b[0mglTranslatef\u001b[0m\u001b[1;33m(\u001b[0m\u001b[1;33m*\u001b[0m\u001b[0mdraw_origin\u001b[0m\u001b[1;33m)\u001b[0m\u001b[1;33m\u001b[0m\u001b[1;33m\u001b[0m\u001b[0m\n\u001b[0;32m     77\u001b[0m     \u001b[1;31m#origin of plotting\u001b[0m\u001b[1;33m\u001b[0m\u001b[1;33m\u001b[0m\u001b[1;33m\u001b[0m\u001b[0m\n",
      "\u001b[1;32m~\\Anaconda3\\lib\\site-packages\\OpenGL\\error.py\u001b[0m in \u001b[0;36mglCheckError\u001b[1;34m(self, result, baseOperation, cArguments, *args)\u001b[0m\n\u001b[0;32m    230\u001b[0m                         \u001b[0mresult\u001b[0m\u001b[1;33m,\u001b[0m\u001b[1;33m\u001b[0m\u001b[1;33m\u001b[0m\u001b[0m\n\u001b[0;32m    231\u001b[0m                         \u001b[0mcArguments\u001b[0m \u001b[1;33m=\u001b[0m \u001b[0mcArguments\u001b[0m\u001b[1;33m,\u001b[0m\u001b[1;33m\u001b[0m\u001b[1;33m\u001b[0m\u001b[0m\n\u001b[1;32m--> 232\u001b[1;33m                         \u001b[0mbaseOperation\u001b[0m \u001b[1;33m=\u001b[0m \u001b[0mbaseOperation\u001b[0m\u001b[1;33m,\u001b[0m\u001b[1;33m\u001b[0m\u001b[1;33m\u001b[0m\u001b[0m\n\u001b[0m\u001b[0;32m    233\u001b[0m                     )\n\u001b[0;32m    234\u001b[0m                 \u001b[1;32mreturn\u001b[0m \u001b[0mresult\u001b[0m\u001b[1;33m\u001b[0m\u001b[1;33m\u001b[0m\u001b[0m\n",
      "\u001b[1;31mGLError\u001b[0m: GLError(\n\terr = 1282,\n\tdescription = b'invalid operation',\n\tbaseOperation = glLoadIdentity,\n\tcArguments = ()\n)"
     ]
    }
   ],
   "source": [
    "draw.draw_face_lines(shapes[0].faces[0],camera,shapes[0],shapes)"
   ]
  },
  {
   "cell_type": "code",
   "execution_count": 7,
   "metadata": {
    "collapsed": true,
    "run_control": {
     "frozen": false,
     "read_only": false
    }
   },
   "outputs": [],
   "source": [
    "def check_normals(shape):\n",
    "    def check_face(face):\n",
    "        vertis = face.get_verts(shape)\n",
    "        verts = [shape.verts_ref[vi] for vi in vertis]\n",
    "        center = face.center\n",
    "        dots = [vec.dot(v-face.center,face.normal_ref) for v in verts]\n",
    "        return np.all(vec.isclose(dots,vec.zero_vec(len(dots))))\n",
    "    return [check_face(face) for face in shape.faces]"
   ]
  },
  {
   "cell_type": "code",
   "execution_count": 119,
   "metadata": {
    "run_control": {
     "frozen": false,
     "read_only": false
    }
   },
   "outputs": [
    {
     "name": "stdout",
     "output_type": "stream",
     "text": [
      "[-0.         -0.         -0.70710678 -0.70710678]\n",
      "[-5.65986790e-17  0.00000000e+00  7.07106781e-01  7.07106781e-01]\n"
     ]
    }
   ],
   "source": [
    "from numpy.linalg import svd\n",
    "def test(shape,face):\n",
    "        verts_in_face = [shape.verts[vi] for vi in face.get_verts(shape)]\n",
    "        rel_verts = [v - face.center for v in verts_in_face]\n",
    "        #find vector perpendicular to all vertices\n",
    "        return svd(np.array(rel_verts))\n",
    "print(test(cylinder_shape,cylinder_shape.faces[5])[-1][-1])\n",
    "print(cylinder_shape.faces[5].normal_ref)"
   ]
  },
  {
   "cell_type": "code",
   "execution_count": 141,
   "metadata": {
    "run_control": {
     "frozen": false,
     "read_only": false
    }
   },
   "outputs": [
    {
     "data": {
      "text/plain": [
       "True"
      ]
     },
     "execution_count": 141,
     "metadata": {},
     "output_type": "execute_result"
    }
   ],
   "source": [
    "cylinder_shape.check_normals()"
   ]
  },
  {
   "cell_type": "code",
   "execution_count": 142,
   "metadata": {
    "run_control": {
     "frozen": false,
     "read_only": false
    }
   },
   "outputs": [
    {
     "data": {
      "text/plain": [
       "Line([0 0],[ 0.66666667 -2.        ])"
      ]
     },
     "execution_count": 142,
     "metadata": {},
     "output_type": "execute_result"
    }
   ],
   "source": [
    "Clipping.clip_line_plane(Geometry.Line(Vec([0,0]),Vec([1,-3])),Geometry.HyperPlane(vec.one_hot(2,1),-2))"
   ]
  },
  {
   "cell_type": "code",
   "execution_count": 52,
   "metadata": {
    "run_control": {
     "frozen": false,
     "read_only": false
    }
   },
   "outputs": [
    {
     "name": "stdout",
     "output_type": "stream",
     "text": [
      "([array([4., 0.]), array([-4.,  0.])], (6.0, -2.0))\n"
     ]
    }
   ],
   "source": [
    "from vec import Vec\n",
    "test =Clipping.sphere_line_intersect(Geometry.Line(Vec([2,0]),Vec([-2,0])),4,return_ts=True)\n",
    "print(test)"
   ]
  },
  {
   "cell_type": "code",
   "execution_count": 64,
   "metadata": {
    "run_control": {
     "frozen": false,
     "read_only": false
    }
   },
   "outputs": [
    {
     "name": "stdout",
     "output_type": "stream",
     "text": [
      "[(0, 1), (1, 2), (2, 3), (3, 0), (4, 5), (5, 6), (6, 7), (7, 4), (8, 9), (9, 10), (10, 11), (11, 8)]\n"
     ]
    },
    {
     "data": {
      "text/plain": [
       "[(0, 4),\n",
       " (1, 5),\n",
       " (2, 6),\n",
       " (3, 7),\n",
       " (4, 8),\n",
       " (5, 9),\n",
       " (6, 10),\n",
       " (7, 11),\n",
       " (8, 0),\n",
       " (9, 1),\n",
       " (10, 2),\n",
       " (11, 3)]"
      ]
     },
     "execution_count": 64,
     "metadata": {},
     "output_type": "execute_result"
    }
   ],
   "source": [
    "n_circ_pts = [3,4]\n",
    "print([(j+i*n_circ_pts[1],(j+1)%n_circ_pts[1]+i*n_circ_pts[1])\n",
    "        for i,j in itertools.product(range(n_circ_pts[0]),range(n_circ_pts[1]))])\n",
    "[(j+i*n_circ_pts[1],j + ((i+1)%n_circ_pts[0])*n_circ_pts[1])\n",
    "        for i,j in itertools.product(range(n_circ_pts[0]),range(n_circ_pts[1]))]"
   ]
  },
  {
   "cell_type": "code",
   "execution_count": 58,
   "metadata": {
    "run_control": {
     "frozen": false,
     "read_only": false
    }
   },
   "outputs": [
    {
     "data": {
      "text/plain": [
       "[(0, 0),\n",
       " (0, 1),\n",
       " (0, 2),\n",
       " (0, 3),\n",
       " (1, 0),\n",
       " (1, 1),\n",
       " (1, 2),\n",
       " (1, 3),\n",
       " (2, 0),\n",
       " (2, 1),\n",
       " (2, 2),\n",
       " (2, 3)]"
      ]
     },
     "execution_count": 58,
     "metadata": {},
     "output_type": "execute_result"
    }
   ],
   "source": [
    "[(i,j) for i,j in itertools.product(range(n_circ_pts[0]),range(n_circ_pts[1]))]"
   ]
  },
  {
   "cell_type": "code",
   "execution_count": 67,
   "metadata": {
    "run_control": {
     "frozen": false,
     "read_only": false
    }
   },
   "outputs": [
    {
     "name": "stdout",
     "output_type": "stream",
     "text": [
      "[[ 1.          0.          0.          0.        ]\n",
      " [ 0.         -0.97774833  0.         -0.20978138]\n",
      " [ 0.          0.          1.          0.        ]\n",
      " [ 0.          0.20978138  0.         -0.97774833]]\n"
     ]
    }
   ],
   "source": [
    "shapes[0].update(angles=[0,time.time()])"
   ]
  },
  {
   "cell_type": "code",
   "execution_count": 68,
   "metadata": {
    "run_control": {
     "frozen": false,
     "read_only": false
    }
   },
   "outputs": [
    {
     "data": {
      "text/plain": [
       "1556095332.9433315"
      ]
     },
     "execution_count": 68,
     "metadata": {},
     "output_type": "execute_result"
    }
   ],
   "source": [
    "time.time()"
   ]
  },
  {
   "cell_type": "code",
   "execution_count": null,
   "metadata": {
    "collapsed": true,
    "run_control": {
     "frozen": false,
     "read_only": false
    }
   },
   "outputs": [],
   "source": []
  }
 ],
 "metadata": {
  "kernelspec": {
   "display_name": "Python 3",
   "language": "python",
   "name": "python3"
  },
  "language_info": {
   "codemirror_mode": {
    "name": "ipython",
    "version": 3
   },
   "file_extension": ".py",
   "mimetype": "text/x-python",
   "name": "python",
   "nbconvert_exporter": "python",
   "pygments_lexer": "ipython3",
   "version": "3.6.8"
  },
  "toc": {
   "base_numbering": 1,
   "nav_menu": {},
   "number_sections": true,
   "sideBar": true,
   "skip_h1_title": false,
   "title_cell": "Table of Contents",
   "title_sidebar": "Contents",
   "toc_cell": false,
   "toc_position": {},
   "toc_section_display": true,
   "toc_window_display": false
  }
 },
 "nbformat": 4,
 "nbformat_minor": 2
}
