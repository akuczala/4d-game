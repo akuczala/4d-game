{
 "cells": [
  {
   "cell_type": "markdown",
   "metadata": {
    "run_control": {
     "frozen": false,
     "read_only": false
    }
   },
   "source": [
    "# init"
   ]
  },
  {
   "cell_type": "code",
   "execution_count": 1,
   "metadata": {
    "run_control": {
     "frozen": false,
     "read_only": false
    }
   },
   "outputs": [],
   "source": [
    "import pygame\n",
    "import numpy as np\n",
    "import numpy.linalg as lin\n",
    "import sys\n",
    "import importlib\n",
    "import itertools\n",
    "import time\n",
    "\n",
    "import Clipping\n",
    "\n",
    "import Geometry\n",
    "from Geometry import Point\n",
    "from camera import Camera\n",
    "import draw\n",
    "import vec\n",
    "from inputs import input_update"
   ]
  },
  {
   "cell_type": "markdown",
   "metadata": {
    "run_control": {
     "frozen": false,
     "read_only": false
    }
   },
   "source": [
    "# reload modules"
   ]
  },
  {
   "cell_type": "code",
   "execution_count": 16,
   "metadata": {
    "run_control": {
     "frozen": false,
     "read_only": false
    }
   },
   "outputs": [],
   "source": [
    "\n",
    "importlib.reload(sys.modules['Clipping'])\n",
    "importlib.reload(sys.modules['Geometry'])\n",
    "importlib.reload(sys.modules['vec'])\n",
    "importlib.reload(sys.modules['util'])\n",
    "importlib.reload(sys.modules['opengl_draw_2d'])\n",
    "importlib.reload(sys.modules['opengl_draw_3d'])\n",
    "import Geometry\n",
    "\n",
    "importlib.reload(sys.modules['camera'])\n",
    "from camera import Camera\n",
    "importlib.reload(sys.modules['inputs'])\n",
    "from inputs import input_update\n",
    "\n",
    "importlib.reload(sys.modules['draw'])\n",
    "import draw\n",
    "\n"
   ]
  },
  {
   "cell_type": "markdown",
   "metadata": {
    "run_control": {
     "frozen": false,
     "read_only": false
    }
   },
   "source": [
    "# build shapes"
   ]
  },
  {
   "cell_type": "code",
   "execution_count": 3,
   "metadata": {
    "run_control": {
     "frozen": false,
     "read_only": false
    }
   },
   "outputs": [],
   "source": [
    "from colors import *\n",
    "    \n",
    "d = 4 #set dimensionality\n",
    "cube_face_colors = [RED,YELLOW,GREEN,CYAN,MAGENTA, WHITE]\n",
    "tess_face_colors = cube_face_colors + [ORANGE,PURPLE]\n",
    "\n",
    "Geometry.Face.n_fuzz_points = 100\n",
    "cube_shape = Geometry.build_cube(d)\n",
    "\n",
    "#draw a pair of cubes for each axis\n",
    "for face, color in zip(cube_shape.faces,tess_face_colors):\n",
    "    face.color = color\n",
    "    #face.color = GREEN\n",
    "shapes = []\n",
    "r = 4\n",
    "for i in range(d):\n",
    "    cube = cube_shape.copy()\n",
    "    cube.update(pos = r*np.eye(d)[i])\n",
    "    shapes.append(cube)\n",
    "    cube = cube_shape.copy()\n",
    "    cube.update(pos = -r*np.eye(d)[i])\n",
    "    shapes.append(cube)\n",
    "#shapes = shapes[:2] + shapes[-4:] \n",
    "#shapes = shapes[:2] + shapes[-2:]\n",
    "#shapes.pop(2) #removes top cube\n",
    "#cube_shape.transparent = True\n",
    "shapes = [shapes[0] ]\n",
    "for i,shape in enumerate(shapes):\n",
    "    shape.name = 'shape ' + str(i)\n",
    "    \n",
    "floor_lines = Geometry.build_floor(d,1,16,-5)"
   ]
  },
  {
   "cell_type": "markdown",
   "metadata": {
    "run_control": {
     "frozen": false,
     "read_only": false
    }
   },
   "source": [
    "## other shapes"
   ]
  },
  {
   "cell_type": "code",
   "execution_count": 20,
   "metadata": {
    "run_control": {
     "frozen": false,
     "read_only": false
    }
   },
   "outputs": [
    {
     "name": "stdout",
     "output_type": "stream",
     "text": [
      "Warning: not all normals perpendicular\n"
     ]
    }
   ],
   "source": [
    "d = 3\n",
    "sphere_shape = Geometry.build_sphere_3d(r=1,phi_pts=10,theta_pts=5)\n",
    "shapes = [sphere_shape]\n",
    "#shapes.append(sphere_shape)"
   ]
  },
  {
   "cell_type": "code",
   "execution_count": 48,
   "metadata": {
    "run_control": {
     "frozen": false,
     "read_only": false
    }
   },
   "outputs": [],
   "source": []
  },
  {
   "cell_type": "code",
   "execution_count": 4,
   "metadata": {
    "run_control": {
     "frozen": false,
     "read_only": false
    }
   },
   "outputs": [
    {
     "name": "stdout",
     "output_type": "stream",
     "text": [
      "Warning: not all normals perpendicular\n"
     ]
    }
   ],
   "source": [
    "d = 4\n",
    "m = 5; n = 5\n",
    "cylinder_shape = Geometry.build_duocylinder(rs=[1,1],axes=[[0,1],[2,3]],n_circ_pts=[m,n])\n",
    "#cylinder_shape.transparent = True\n",
    "for i,face in enumerate(cylinder_shape.faces[:m]):\n",
    "    face.color = ORANGE\n",
    "    #face.color = (np.cos(2*np.pi*i/m)**2,np.sin(2*np.pi*i/m)**2,1)\n",
    "    #face.color = ((i+1)%2,(i+1)%2,i%2)\n",
    "for i,face in enumerate(cylinder_shape.faces[m:]):\n",
    "    face.color = CYAN\n",
    "    #face.color = (1,np.cos(2*np.pi*i/m)**2,np.sin(2*np.pi*i/m)**2)\n",
    "    #face.color = ((i+1)%2,i%2,(i+1)%2)\n",
    "    #face.color = ((i+1)%2,(i+1)%2,i%2)\n",
    "#shapes = [cylinder_shape]\n",
    "shapes.append(cylinder_shape)"
   ]
  },
  {
   "cell_type": "markdown",
   "metadata": {
    "heading_collapsed": true,
    "run_control": {
     "frozen": false,
     "read_only": false
    }
   },
   "source": [
    "# comments"
   ]
  },
  {
   "cell_type": "markdown",
   "metadata": {
    "hidden": true,
    "run_control": {
     "frozen": false,
     "read_only": false
    }
   },
   "source": [
    "Would like draw.py to have clearer distinctions between the various spaces. The layers are\n",
    "1. The d-dim local spaces that shape.verts_ref, ref_frame, and face.normal_ref etc live in\n",
    "2. The d-dim world space that rotated, scaled and positioned shapes (and faces) and cameras live\n",
    "3. The d-dim space rotated and translated wrt to a camera\n",
    "4. The (d-1)-dim space that shapes are projected on to\n",
    "5. The (d-1)-dim graphics backend (openGL)\n",
    "\n",
    "It would be nice if we could organize code according to these layers.\n",
    "\n",
    "Clipping happens in 2\n",
    "\n",
    "Todo: \n",
    "- fix target shape clipping\n",
    "- fix viewport clipping\n",
    "- speed up /generalize floor drawing\n",
    "- speed up clipping\n",
    "- find a way to make the center obvious wrt objects in the view. does rotation help or hurt? how can one navigate with a rotating viewport?\n",
    "- other points of reference at infinity\n",
    "- a floor and ceiling\n",
    "- implement cubinders, spherinders\n",
    "- generalize face fuzz to all convex faces, invariant to edge order"
   ]
  },
  {
   "cell_type": "markdown",
   "metadata": {
    "run_control": {
     "frozen": false,
     "read_only": false
    }
   },
   "source": [
    "# main loop"
   ]
  },
  {
   "cell_type": "code",
   "execution_count": 17,
   "metadata": {
    "run_control": {
     "frozen": false,
     "read_only": false
    },
    "scrolled": true
   },
   "outputs": [
    {
     "name": "stdout",
     "output_type": "stream",
     "text": [
      "init GL\n",
      "46.203417370895075 fps\n",
      "48.02243240404012 fps\n",
      "47.98101604077347 fps\n",
      "47.479771053582965 fps\n",
      "48.02375883460839 fps\n",
      "48.00001321380035 fps\n",
      "47.52838241767114 fps\n",
      "transparency True\n",
      "46.486256847741316 fps\n",
      "46.999904751970675 fps\n",
      "24.752344013996275 fps\n",
      "23.999711040161245 fps\n",
      "23.998056997238695 fps\n",
      "transparency False\n",
      "24.484889236500578 fps\n",
      "47.49943942493164 fps\n",
      "48.05497376478702 fps\n",
      "47.94205992180261 fps\n",
      "47.504130874172915 fps\n",
      "47.52299727823377 fps\n",
      "48.065419939126606 fps\n",
      "47.99790010102545 fps\n",
      "48.00006984445569 fps\n",
      "48.00072110659659 fps\n",
      "47.49654616199031 fps\n",
      "48.01272448314753 fps\n",
      "47.932837180112 fps\n",
      "47.998733396624175 fps\n",
      "48.03097612744809 fps\n",
      "47.965126597033105 fps\n",
      "game terminated\n"
     ]
    }
   ],
   "source": [
    "\n",
    "\n",
    "t = 0\n",
    "#size = width, height = 1100, 700\n",
    "size = width, height = 1600, 900\n",
    "\n",
    "pygame.init()\n",
    "\n",
    "if d == 3:\n",
    "    draw.init(d,size,focal=6,n_fuzz_points = 100)\n",
    "    draw.view_radius = 7\n",
    "    draw_view_height = 7\n",
    "    draw.view_boundary = 'none'\n",
    "    camera = Camera(pos = Point([0,0,-10]))\n",
    "    camera.target_shape = Geometry.build_3d_target()\n",
    "\n",
    "    camera.look_at(vec.zero_vec(d))\n",
    "\n",
    "if d == 4:\n",
    "    draw.init(d,size,stereo=False,n_fuzz_points = 200)\n",
    "    draw.view_boundary = 'none'\n",
    "    if draw.stereo:\n",
    "        draw.view_radius = 4\n",
    "    else:\n",
    "        draw.view_radius = 6\n",
    "        draw.view_height = 4\n",
    "\n",
    "    draw.face_scales = [0.9]\n",
    "\n",
    "    camera = Camera(pos = vec.one_hot(d,-1)*(-5))\n",
    "    camera.look_at(vec.zero_vec(d))\n",
    "\n",
    "draw.clipping = True\n",
    "quit = False\n",
    "redraw = True\n",
    "timer = time.time()\n",
    "t0 = time.time()\n",
    "frame = 0\n",
    "try:\n",
    "    while not quit:\n",
    "\n",
    "        if redraw:\n",
    "            draw.draw(camera,shapes+ [camera.target_shape])\n",
    "            draw.clip_and_draw_lines(floor_lines,camera,(0.2,0.2,0.2),None,shapes)\n",
    "            #test_points(camera,shapes[0].pos)\n",
    "            #draw.draw_wireframe(camera,cylinder_shape,GRAY)\n",
    "            #draw.draw_normals(camera,shapes[0],WHITE)\n",
    "            pygame.display.flip()\n",
    "            redraw = False\n",
    "            \n",
    "        #this is here so that we draw on the first frame\n",
    "        redraw, quit = input_update(camera, shapes)\n",
    "        #camera.update_rot_matrix(0, 2, camera.ang_speed/2)\n",
    "        #sphere_shape.rotate(0,2,0.01)\n",
    "        #cylinder_shape.rotate(1,3,0.02)\n",
    "        redraw = True #redraw every loop. useful for assessing framerate\n",
    "\n",
    "\n",
    "        delta_t = (time.time() - timer)\n",
    "        if delta_t > 2:\n",
    "        #if False:\n",
    "            #print('redraw:',redraw)\n",
    "            try:\n",
    "                #fps = 30/(time.time() - timer)\n",
    "                fps = frame/delta_t\n",
    "            except:\n",
    "                fps = 0\n",
    "            #if fps < 60:\n",
    "            print(fps,'fps')\n",
    "            timer = time.time()\n",
    "            frame = 0\n",
    "        frame = frame+1\n",
    "except:\n",
    "    pygame.quit()\n",
    "    print('game terminated')\n",
    "    raise\n",
    "pygame.quit()\n",
    "print('game terminated')"
   ]
  },
  {
   "cell_type": "code",
   "execution_count": 188,
   "metadata": {
    "collapsed": true,
    "run_control": {
     "frozen": false,
     "read_only": false
    }
   },
   "outputs": [],
   "source": [
    "pygame.quit()"
   ]
  },
  {
   "cell_type": "markdown",
   "metadata": {
    "run_control": {
     "frozen": false,
     "read_only": false
    }
   },
   "source": [
    "# workspace"
   ]
  }
 ],
 "metadata": {
  "kernelspec": {
   "display_name": "Python 3",
   "language": "python",
   "name": "python3"
  },
  "language_info": {
   "codemirror_mode": {
    "name": "ipython",
    "version": 3
   },
   "file_extension": ".py",
   "mimetype": "text/x-python",
   "name": "python",
   "nbconvert_exporter": "python",
   "pygments_lexer": "ipython3",
   "version": "3.6.8"
  },
  "toc": {
   "base_numbering": 1,
   "nav_menu": {},
   "number_sections": true,
   "sideBar": true,
   "skip_h1_title": false,
   "title_cell": "Table of Contents",
   "title_sidebar": "Contents",
   "toc_cell": false,
   "toc_position": {},
   "toc_section_display": true,
   "toc_window_display": false
  }
 },
 "nbformat": 4,
 "nbformat_minor": 2
}
